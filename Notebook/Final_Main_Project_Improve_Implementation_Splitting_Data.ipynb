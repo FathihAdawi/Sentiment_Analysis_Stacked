{
 "cells": [
  {
   "cell_type": "code",
   "execution_count": 1,
   "id": "79dd44cf",
   "metadata": {
    "id": "79dd44cf"
   },
   "outputs": [],
   "source": [
    "from sklearn.svm import LinearSVC\n",
    "from sklearn import svm\n",
    "from sklearn.naive_bayes import GaussianNB, MultinomialNB\n",
    "from sklearn.tree import DecisionTreeClassifier\n",
    "from sklearn.linear_model import LogisticRegression\n",
    "from sklearn.ensemble import StackingClassifier\n",
    "from sklearn.model_selection import RepeatedStratifiedKFold\n",
    "from sklearn.model_selection import cross_val_score\n",
    "from sklearn.metrics import classification_report\n",
    "\n",
    "from sklearn import model_selection, tree, preprocessing, metrics, linear_model\n",
    "\n",
    "# Visualization \n",
    "import matplotlib.pyplot as plt\n",
    "import missingno\n",
    "import seaborn as sns\n",
    "plt.style.use('seaborn-whitegrid')\n",
    "\n",
    "# Start Python Imports\n",
    "import math, time, random, datetime, re, string, zipfile\n",
    "import pandas as pd\n",
    "import numpy as np\n",
    "\n",
    "# Preprocessing\n",
    "import nltk\n",
    "from nltk.tokenize import sent_tokenize, word_tokenize\n",
    "from nltk.corpus import stopwords\n",
    "from sklearn.preprocessing import OneHotEncoder, LabelEncoder, label_binarize\n",
    "from sklearn.feature_extraction.text import TfidfVectorizer\n",
    "from sklearn.model_selection import train_test_split\n",
    "from sklearn.ensemble import RandomForestClassifier\n",
    "from sklearn.metrics import confusion_matrix, accuracy_score\n",
    "from sklearn.preprocessing import Normalizer"
   ]
  },
  {
   "cell_type": "code",
   "execution_count": 2,
   "id": "b09a50ce",
   "metadata": {
    "id": "b09a50ce"
   },
   "outputs": [],
   "source": [
    "df = pd.read_csv('D:\\File Backup S1 Edisi Ke 2\\Aplikasi Sentiment Analisis Ulasan Pelanggan Tokopedia\\Datasets\\dataset_review_tokped_final_cleaned.csv')"
   ]
  },
  {
   "cell_type": "code",
   "execution_count": 3,
   "id": "d6ac6e38",
   "metadata": {
    "colab": {
     "base_uri": "https://localhost:8080/",
     "height": 693
    },
    "id": "d6ac6e38",
    "outputId": "1a8a0b9c-2e57-4179-9322-0204e5906037"
   },
   "outputs": [
    {
     "data": {
      "text/html": [
       "<div>\n",
       "<style scoped>\n",
       "    .dataframe tbody tr th:only-of-type {\n",
       "        vertical-align: middle;\n",
       "    }\n",
       "\n",
       "    .dataframe tbody tr th {\n",
       "        vertical-align: top;\n",
       "    }\n",
       "\n",
       "    .dataframe thead th {\n",
       "        text-align: right;\n",
       "    }\n",
       "</style>\n",
       "<table border=\"1\" class=\"dataframe\">\n",
       "  <thead>\n",
       "    <tr style=\"text-align: right;\">\n",
       "      <th></th>\n",
       "      <th>Review</th>\n",
       "      <th>Rating</th>\n",
       "      <th>Sentiment</th>\n",
       "      <th>tokenization</th>\n",
       "      <th>Review_Normalized</th>\n",
       "      <th>df_token_stemm</th>\n",
       "      <th>Review_clean</th>\n",
       "    </tr>\n",
       "  </thead>\n",
       "  <tbody>\n",
       "    <tr>\n",
       "      <th>0</th>\n",
       "      <td>enak kuacinya</td>\n",
       "      <td>5</td>\n",
       "      <td>Positive</td>\n",
       "      <td>['enak', 'kuacinya']</td>\n",
       "      <td>['enak', 'kuacinya']</td>\n",
       "      <td>['enak', 'kuaci']</td>\n",
       "      <td>enak kuaci</td>\n",
       "    </tr>\n",
       "    <tr>\n",
       "      <th>1</th>\n",
       "      <td>pengiriman cepat packing bagus sesuai pesanan ...</td>\n",
       "      <td>5</td>\n",
       "      <td>Positive</td>\n",
       "      <td>['pengiriman', 'cepat', 'packing', 'bagus', 's...</td>\n",
       "      <td>['pengiriman', 'cepat', 'pengemasan', 'bagus',...</td>\n",
       "      <td>['kirim', 'cepat', 'emas', 'bagus', 'sesuai', ...</td>\n",
       "      <td>kirim cepat emas bagus sesuai pesan coba terim...</td>\n",
       "    </tr>\n",
       "    <tr>\n",
       "      <th>2</th>\n",
       "      <td>pengemasan luar biasa baik untuk rasa menurut ...</td>\n",
       "      <td>4</td>\n",
       "      <td>Negative</td>\n",
       "      <td>['pengemasan', 'luar', 'biasa', 'baik', 'untuk...</td>\n",
       "      <td>['pengemasan', 'luar', 'biasa', 'baik', 'untuk...</td>\n",
       "      <td>['emas', 'luar', 'biasa', 'baik', 'untuk', 'ra...</td>\n",
       "      <td>emas dominan asli asli kuaci varian dominan as...</td>\n",
       "    </tr>\n",
       "    <tr>\n",
       "      <th>3</th>\n",
       "      <td>terimakasih min</td>\n",
       "      <td>5</td>\n",
       "      <td>Positive</td>\n",
       "      <td>['terimakasih', 'min']</td>\n",
       "      <td>['terima kasih', 'minimal']</td>\n",
       "      <td>['terima kasih', 'minimal']</td>\n",
       "      <td>terima kasih minimal</td>\n",
       "    </tr>\n",
       "    <tr>\n",
       "      <th>4</th>\n",
       "      <td>udah order untuk kesekian kali jos</td>\n",
       "      <td>5</td>\n",
       "      <td>Positive</td>\n",
       "      <td>['udah', 'order', 'untuk', 'kesekian', 'kali',...</td>\n",
       "      <td>['sudah', 'beli', 'untuk', 'kesekian', 'kali',...</td>\n",
       "      <td>['sudah', 'beli', 'untuk', 'sekian', 'kali', '...</td>\n",
       "      <td>beli sekian kali mantap</td>\n",
       "    </tr>\n",
       "    <tr>\n",
       "      <th>...</th>\n",
       "      <td>...</td>\n",
       "      <td>...</td>\n",
       "      <td>...</td>\n",
       "      <td>...</td>\n",
       "      <td>...</td>\n",
       "      <td>...</td>\n",
       "      <td>...</td>\n",
       "    </tr>\n",
       "    <tr>\n",
       "      <th>4055</th>\n",
       "      <td>seller sangat responsif rasa belum dicoba kare...</td>\n",
       "      <td>5</td>\n",
       "      <td>Positive</td>\n",
       "      <td>['seller', 'sangat', 'responsif', 'rasa', 'bel...</td>\n",
       "      <td>['seller', 'sangat', 'responsif', 'rasa', 'bel...</td>\n",
       "      <td>['seller', 'sangat', 'responsif', 'rasa', 'bel...</td>\n",
       "      <td>seller responsif coba buka</td>\n",
       "    </tr>\n",
       "    <tr>\n",
       "      <th>4056</th>\n",
       "      <td>imut banget packing aman</td>\n",
       "      <td>5</td>\n",
       "      <td>Positive</td>\n",
       "      <td>['imut', 'banget', 'packing', 'aman']</td>\n",
       "      <td>['imut', 'banget', 'pengemasan', 'aman']</td>\n",
       "      <td>['imut', 'banget', 'emas', 'aman']</td>\n",
       "      <td>imut banget emas aman</td>\n",
       "    </tr>\n",
       "    <tr>\n",
       "      <th>4057</th>\n",
       "      <td>good product trusted seller</td>\n",
       "      <td>5</td>\n",
       "      <td>Positive</td>\n",
       "      <td>['good', 'product', 'trusted', 'seller']</td>\n",
       "      <td>['good', 'produk', 'dipercaya', 'seller']</td>\n",
       "      <td>['good', 'produk', 'percaya', 'seller']</td>\n",
       "      <td>good produk percaya seller</td>\n",
       "    </tr>\n",
       "    <tr>\n",
       "      <th>4058</th>\n",
       "      <td>sudah beli yg ke</td>\n",
       "      <td>5</td>\n",
       "      <td>Positive</td>\n",
       "      <td>['sudah', 'beli', 'yg', 'ke']</td>\n",
       "      <td>['sudah', 'beli', 'yang', 'ke']</td>\n",
       "      <td>['sudah', 'beli', 'yang', 'ke']</td>\n",
       "      <td>beli</td>\n",
       "    </tr>\n",
       "    <tr>\n",
       "      <th>4059</th>\n",
       "      <td>byk campurannya</td>\n",
       "      <td>4</td>\n",
       "      <td>Negative</td>\n",
       "      <td>['byk', 'campurannya']</td>\n",
       "      <td>['banyak', 'campurannya']</td>\n",
       "      <td>['banyak', 'campur']</td>\n",
       "      <td>campur</td>\n",
       "    </tr>\n",
       "  </tbody>\n",
       "</table>\n",
       "<p>4060 rows × 7 columns</p>\n",
       "</div>"
      ],
      "text/plain": [
       "                                                 Review  Rating Sentiment  \\\n",
       "0                                         enak kuacinya       5  Positive   \n",
       "1     pengiriman cepat packing bagus sesuai pesanan ...       5  Positive   \n",
       "2     pengemasan luar biasa baik untuk rasa menurut ...       4  Negative   \n",
       "3                                       terimakasih min       5  Positive   \n",
       "4                    udah order untuk kesekian kali jos       5  Positive   \n",
       "...                                                 ...     ...       ...   \n",
       "4055  seller sangat responsif rasa belum dicoba kare...       5  Positive   \n",
       "4056                           imut banget packing aman       5  Positive   \n",
       "4057                        good product trusted seller       5  Positive   \n",
       "4058                                  sudah beli yg ke        5  Positive   \n",
       "4059                                    byk campurannya       4  Negative   \n",
       "\n",
       "                                           tokenization  \\\n",
       "0                                  ['enak', 'kuacinya']   \n",
       "1     ['pengiriman', 'cepat', 'packing', 'bagus', 's...   \n",
       "2     ['pengemasan', 'luar', 'biasa', 'baik', 'untuk...   \n",
       "3                                ['terimakasih', 'min']   \n",
       "4     ['udah', 'order', 'untuk', 'kesekian', 'kali',...   \n",
       "...                                                 ...   \n",
       "4055  ['seller', 'sangat', 'responsif', 'rasa', 'bel...   \n",
       "4056              ['imut', 'banget', 'packing', 'aman']   \n",
       "4057           ['good', 'product', 'trusted', 'seller']   \n",
       "4058                      ['sudah', 'beli', 'yg', 'ke']   \n",
       "4059                             ['byk', 'campurannya']   \n",
       "\n",
       "                                      Review_Normalized  \\\n",
       "0                                  ['enak', 'kuacinya']   \n",
       "1     ['pengiriman', 'cepat', 'pengemasan', 'bagus',...   \n",
       "2     ['pengemasan', 'luar', 'biasa', 'baik', 'untuk...   \n",
       "3                           ['terima kasih', 'minimal']   \n",
       "4     ['sudah', 'beli', 'untuk', 'kesekian', 'kali',...   \n",
       "...                                                 ...   \n",
       "4055  ['seller', 'sangat', 'responsif', 'rasa', 'bel...   \n",
       "4056           ['imut', 'banget', 'pengemasan', 'aman']   \n",
       "4057          ['good', 'produk', 'dipercaya', 'seller']   \n",
       "4058                    ['sudah', 'beli', 'yang', 'ke']   \n",
       "4059                          ['banyak', 'campurannya']   \n",
       "\n",
       "                                         df_token_stemm  \\\n",
       "0                                     ['enak', 'kuaci']   \n",
       "1     ['kirim', 'cepat', 'emas', 'bagus', 'sesuai', ...   \n",
       "2     ['emas', 'luar', 'biasa', 'baik', 'untuk', 'ra...   \n",
       "3                           ['terima kasih', 'minimal']   \n",
       "4     ['sudah', 'beli', 'untuk', 'sekian', 'kali', '...   \n",
       "...                                                 ...   \n",
       "4055  ['seller', 'sangat', 'responsif', 'rasa', 'bel...   \n",
       "4056                 ['imut', 'banget', 'emas', 'aman']   \n",
       "4057            ['good', 'produk', 'percaya', 'seller']   \n",
       "4058                    ['sudah', 'beli', 'yang', 'ke']   \n",
       "4059                               ['banyak', 'campur']   \n",
       "\n",
       "                                           Review_clean  \n",
       "0                                            enak kuaci  \n",
       "1     kirim cepat emas bagus sesuai pesan coba terim...  \n",
       "2     emas dominan asli asli kuaci varian dominan as...  \n",
       "3                                  terima kasih minimal  \n",
       "4                               beli sekian kali mantap  \n",
       "...                                                 ...  \n",
       "4055                         seller responsif coba buka  \n",
       "4056                              imut banget emas aman  \n",
       "4057                         good produk percaya seller  \n",
       "4058                                               beli  \n",
       "4059                                             campur  \n",
       "\n",
       "[4060 rows x 7 columns]"
      ]
     },
     "execution_count": 3,
     "metadata": {},
     "output_type": "execute_result"
    }
   ],
   "source": [
    "df"
   ]
  },
  {
   "cell_type": "code",
   "execution_count": 4,
   "id": "8061e07b",
   "metadata": {
    "colab": {
     "base_uri": "https://localhost:8080/",
     "height": 35
    },
    "id": "8061e07b",
    "outputId": "4172e549-661e-4d63-f562-2c9fe0d07535"
   },
   "outputs": [
    {
     "data": {
      "text/plain": [
       "'kembali ke awal rasanya'"
      ]
     },
     "execution_count": 4,
     "metadata": {},
     "output_type": "execute_result"
    }
   ],
   "source": [
    "df[\"Review\"].iloc[2009]"
   ]
  },
  {
   "cell_type": "code",
   "execution_count": 5,
   "id": "1c573003",
   "metadata": {
    "colab": {
     "base_uri": "https://localhost:8080/",
     "height": 693
    },
    "id": "1c573003",
    "outputId": "72afdb90-e38a-484b-a58a-f612e3871a50"
   },
   "outputs": [
    {
     "data": {
      "text/html": [
       "<div>\n",
       "<style scoped>\n",
       "    .dataframe tbody tr th:only-of-type {\n",
       "        vertical-align: middle;\n",
       "    }\n",
       "\n",
       "    .dataframe tbody tr th {\n",
       "        vertical-align: top;\n",
       "    }\n",
       "\n",
       "    .dataframe thead th {\n",
       "        text-align: right;\n",
       "    }\n",
       "</style>\n",
       "<table border=\"1\" class=\"dataframe\">\n",
       "  <thead>\n",
       "    <tr style=\"text-align: right;\">\n",
       "      <th></th>\n",
       "      <th>Review</th>\n",
       "      <th>Rating</th>\n",
       "      <th>Sentiment</th>\n",
       "      <th>tokenization</th>\n",
       "      <th>Review_Normalized</th>\n",
       "      <th>df_token_stemm</th>\n",
       "      <th>Review_clean</th>\n",
       "    </tr>\n",
       "  </thead>\n",
       "  <tbody>\n",
       "    <tr>\n",
       "      <th>0</th>\n",
       "      <td>enak kuacinya</td>\n",
       "      <td>5</td>\n",
       "      <td>positive</td>\n",
       "      <td>['enak', 'kuacinya']</td>\n",
       "      <td>['enak', 'kuacinya']</td>\n",
       "      <td>['enak', 'kuaci']</td>\n",
       "      <td>enak kuaci</td>\n",
       "    </tr>\n",
       "    <tr>\n",
       "      <th>1</th>\n",
       "      <td>pengiriman cepat packing bagus sesuai pesanan ...</td>\n",
       "      <td>5</td>\n",
       "      <td>positive</td>\n",
       "      <td>['pengiriman', 'cepat', 'packing', 'bagus', 's...</td>\n",
       "      <td>['pengiriman', 'cepat', 'pengemasan', 'bagus',...</td>\n",
       "      <td>['kirim', 'cepat', 'emas', 'bagus', 'sesuai', ...</td>\n",
       "      <td>kirim cepat emas bagus sesuai pesan coba terim...</td>\n",
       "    </tr>\n",
       "    <tr>\n",
       "      <th>2</th>\n",
       "      <td>pengemasan luar biasa baik untuk rasa menurut ...</td>\n",
       "      <td>4</td>\n",
       "      <td>negative</td>\n",
       "      <td>['pengemasan', 'luar', 'biasa', 'baik', 'untuk...</td>\n",
       "      <td>['pengemasan', 'luar', 'biasa', 'baik', 'untuk...</td>\n",
       "      <td>['emas', 'luar', 'biasa', 'baik', 'untuk', 'ra...</td>\n",
       "      <td>emas dominan asli asli kuaci varian dominan as...</td>\n",
       "    </tr>\n",
       "    <tr>\n",
       "      <th>3</th>\n",
       "      <td>terimakasih min</td>\n",
       "      <td>5</td>\n",
       "      <td>positive</td>\n",
       "      <td>['terimakasih', 'min']</td>\n",
       "      <td>['terima kasih', 'minimal']</td>\n",
       "      <td>['terima kasih', 'minimal']</td>\n",
       "      <td>terima kasih minimal</td>\n",
       "    </tr>\n",
       "    <tr>\n",
       "      <th>4</th>\n",
       "      <td>udah order untuk kesekian kali jos</td>\n",
       "      <td>5</td>\n",
       "      <td>positive</td>\n",
       "      <td>['udah', 'order', 'untuk', 'kesekian', 'kali',...</td>\n",
       "      <td>['sudah', 'beli', 'untuk', 'kesekian', 'kali',...</td>\n",
       "      <td>['sudah', 'beli', 'untuk', 'sekian', 'kali', '...</td>\n",
       "      <td>beli sekian kali mantap</td>\n",
       "    </tr>\n",
       "    <tr>\n",
       "      <th>...</th>\n",
       "      <td>...</td>\n",
       "      <td>...</td>\n",
       "      <td>...</td>\n",
       "      <td>...</td>\n",
       "      <td>...</td>\n",
       "      <td>...</td>\n",
       "      <td>...</td>\n",
       "    </tr>\n",
       "    <tr>\n",
       "      <th>4055</th>\n",
       "      <td>seller sangat responsif rasa belum dicoba kare...</td>\n",
       "      <td>5</td>\n",
       "      <td>positive</td>\n",
       "      <td>['seller', 'sangat', 'responsif', 'rasa', 'bel...</td>\n",
       "      <td>['seller', 'sangat', 'responsif', 'rasa', 'bel...</td>\n",
       "      <td>['seller', 'sangat', 'responsif', 'rasa', 'bel...</td>\n",
       "      <td>seller responsif coba buka</td>\n",
       "    </tr>\n",
       "    <tr>\n",
       "      <th>4056</th>\n",
       "      <td>imut banget packing aman</td>\n",
       "      <td>5</td>\n",
       "      <td>positive</td>\n",
       "      <td>['imut', 'banget', 'packing', 'aman']</td>\n",
       "      <td>['imut', 'banget', 'pengemasan', 'aman']</td>\n",
       "      <td>['imut', 'banget', 'emas', 'aman']</td>\n",
       "      <td>imut banget emas aman</td>\n",
       "    </tr>\n",
       "    <tr>\n",
       "      <th>4057</th>\n",
       "      <td>good product trusted seller</td>\n",
       "      <td>5</td>\n",
       "      <td>positive</td>\n",
       "      <td>['good', 'product', 'trusted', 'seller']</td>\n",
       "      <td>['good', 'produk', 'dipercaya', 'seller']</td>\n",
       "      <td>['good', 'produk', 'percaya', 'seller']</td>\n",
       "      <td>good produk percaya seller</td>\n",
       "    </tr>\n",
       "    <tr>\n",
       "      <th>4058</th>\n",
       "      <td>sudah beli yg ke</td>\n",
       "      <td>5</td>\n",
       "      <td>positive</td>\n",
       "      <td>['sudah', 'beli', 'yg', 'ke']</td>\n",
       "      <td>['sudah', 'beli', 'yang', 'ke']</td>\n",
       "      <td>['sudah', 'beli', 'yang', 'ke']</td>\n",
       "      <td>beli</td>\n",
       "    </tr>\n",
       "    <tr>\n",
       "      <th>4059</th>\n",
       "      <td>byk campurannya</td>\n",
       "      <td>4</td>\n",
       "      <td>negative</td>\n",
       "      <td>['byk', 'campurannya']</td>\n",
       "      <td>['banyak', 'campurannya']</td>\n",
       "      <td>['banyak', 'campur']</td>\n",
       "      <td>campur</td>\n",
       "    </tr>\n",
       "  </tbody>\n",
       "</table>\n",
       "<p>4060 rows × 7 columns</p>\n",
       "</div>"
      ],
      "text/plain": [
       "                                                 Review  Rating Sentiment  \\\n",
       "0                                         enak kuacinya       5  positive   \n",
       "1     pengiriman cepat packing bagus sesuai pesanan ...       5  positive   \n",
       "2     pengemasan luar biasa baik untuk rasa menurut ...       4  negative   \n",
       "3                                       terimakasih min       5  positive   \n",
       "4                    udah order untuk kesekian kali jos       5  positive   \n",
       "...                                                 ...     ...       ...   \n",
       "4055  seller sangat responsif rasa belum dicoba kare...       5  positive   \n",
       "4056                           imut banget packing aman       5  positive   \n",
       "4057                        good product trusted seller       5  positive   \n",
       "4058                                  sudah beli yg ke        5  positive   \n",
       "4059                                    byk campurannya       4  negative   \n",
       "\n",
       "                                           tokenization  \\\n",
       "0                                  ['enak', 'kuacinya']   \n",
       "1     ['pengiriman', 'cepat', 'packing', 'bagus', 's...   \n",
       "2     ['pengemasan', 'luar', 'biasa', 'baik', 'untuk...   \n",
       "3                                ['terimakasih', 'min']   \n",
       "4     ['udah', 'order', 'untuk', 'kesekian', 'kali',...   \n",
       "...                                                 ...   \n",
       "4055  ['seller', 'sangat', 'responsif', 'rasa', 'bel...   \n",
       "4056              ['imut', 'banget', 'packing', 'aman']   \n",
       "4057           ['good', 'product', 'trusted', 'seller']   \n",
       "4058                      ['sudah', 'beli', 'yg', 'ke']   \n",
       "4059                             ['byk', 'campurannya']   \n",
       "\n",
       "                                      Review_Normalized  \\\n",
       "0                                  ['enak', 'kuacinya']   \n",
       "1     ['pengiriman', 'cepat', 'pengemasan', 'bagus',...   \n",
       "2     ['pengemasan', 'luar', 'biasa', 'baik', 'untuk...   \n",
       "3                           ['terima kasih', 'minimal']   \n",
       "4     ['sudah', 'beli', 'untuk', 'kesekian', 'kali',...   \n",
       "...                                                 ...   \n",
       "4055  ['seller', 'sangat', 'responsif', 'rasa', 'bel...   \n",
       "4056           ['imut', 'banget', 'pengemasan', 'aman']   \n",
       "4057          ['good', 'produk', 'dipercaya', 'seller']   \n",
       "4058                    ['sudah', 'beli', 'yang', 'ke']   \n",
       "4059                          ['banyak', 'campurannya']   \n",
       "\n",
       "                                         df_token_stemm  \\\n",
       "0                                     ['enak', 'kuaci']   \n",
       "1     ['kirim', 'cepat', 'emas', 'bagus', 'sesuai', ...   \n",
       "2     ['emas', 'luar', 'biasa', 'baik', 'untuk', 'ra...   \n",
       "3                           ['terima kasih', 'minimal']   \n",
       "4     ['sudah', 'beli', 'untuk', 'sekian', 'kali', '...   \n",
       "...                                                 ...   \n",
       "4055  ['seller', 'sangat', 'responsif', 'rasa', 'bel...   \n",
       "4056                 ['imut', 'banget', 'emas', 'aman']   \n",
       "4057            ['good', 'produk', 'percaya', 'seller']   \n",
       "4058                    ['sudah', 'beli', 'yang', 'ke']   \n",
       "4059                               ['banyak', 'campur']   \n",
       "\n",
       "                                           Review_clean  \n",
       "0                                            enak kuaci  \n",
       "1     kirim cepat emas bagus sesuai pesan coba terim...  \n",
       "2     emas dominan asli asli kuaci varian dominan as...  \n",
       "3                                  terima kasih minimal  \n",
       "4                               beli sekian kali mantap  \n",
       "...                                                 ...  \n",
       "4055                         seller responsif coba buka  \n",
       "4056                              imut banget emas aman  \n",
       "4057                         good produk percaya seller  \n",
       "4058                                               beli  \n",
       "4059                                             campur  \n",
       "\n",
       "[4060 rows x 7 columns]"
      ]
     },
     "execution_count": 5,
     "metadata": {},
     "output_type": "execute_result"
    }
   ],
   "source": [
    "#conver data to lowercase\n",
    "df['Sentiment'] = df['Sentiment'].str.lower()\n",
    "df"
   ]
  },
  {
   "cell_type": "code",
   "execution_count": 6,
   "id": "ec0658ff",
   "metadata": {
    "colab": {
     "base_uri": "https://localhost:8080/",
     "height": 35
    },
    "id": "ec0658ff",
    "outputId": "f84de360-ec47-492b-abc1-9d47ecea9c9b"
   },
   "outputs": [
    {
     "data": {
      "text/plain": [
       "'kembali ke awal rasanya'"
      ]
     },
     "execution_count": 6,
     "metadata": {},
     "output_type": "execute_result"
    }
   ],
   "source": [
    "df[\"Review\"].iloc[2009]"
   ]
  },
  {
   "cell_type": "code",
   "execution_count": 7,
   "id": "3221ffdf",
   "metadata": {
    "colab": {
     "base_uri": "https://localhost:8080/"
    },
    "id": "3221ffdf",
    "outputId": "6ab7a81f-f6dd-437d-d0e3-187b4766cf60"
   },
   "outputs": [
    {
     "data": {
      "text/plain": [
       "Review                2\n",
       "Rating                0\n",
       "Sentiment             0\n",
       "tokenization          0\n",
       "Review_Normalized     0\n",
       "df_token_stemm        0\n",
       "Review_clean         11\n",
       "dtype: int64"
      ]
     },
     "execution_count": 7,
     "metadata": {},
     "output_type": "execute_result"
    }
   ],
   "source": [
    "df.isnull().sum()"
   ]
  },
  {
   "cell_type": "code",
   "execution_count": 8,
   "id": "9d247a82",
   "metadata": {
    "id": "9d247a82"
   },
   "outputs": [],
   "source": [
    "#df = df.dropna(inplace=True)\n",
    "df.dropna(inplace=True)"
   ]
  },
  {
   "cell_type": "code",
   "execution_count": 9,
   "id": "ca100ee8",
   "metadata": {
    "colab": {
     "base_uri": "https://localhost:8080/"
    },
    "id": "ca100ee8",
    "outputId": "6b9c0fd0-f8b6-4ea1-970a-fe2e031344e6"
   },
   "outputs": [
    {
     "data": {
      "text/plain": [
       "0"
      ]
     },
     "execution_count": 9,
     "metadata": {},
     "output_type": "execute_result"
    }
   ],
   "source": [
    "df.duplicated().sum()"
   ]
  },
  {
   "cell_type": "code",
   "execution_count": 10,
   "id": "9ef86736",
   "metadata": {
    "colab": {
     "base_uri": "https://localhost:8080/"
    },
    "id": "9ef86736",
    "outputId": "e811a149-74be-40da-96e7-8718cfff7925"
   },
   "outputs": [
    {
     "name": "stdout",
     "output_type": "stream",
     "text": [
      "(4049, 8)\n"
     ]
    }
   ],
   "source": [
    "df = df.reset_index()\n",
    "print(df.shape)\n",
    "#Removes duplicates in place\n",
    "#df.drop_duplicates(keep=False, inplace=True)\n",
    "#print(df.shape) \n",
    "#df"
   ]
  },
  {
   "cell_type": "code",
   "execution_count": 11,
   "id": "572c0ade",
   "metadata": {
    "colab": {
     "base_uri": "https://localhost:8080/"
    },
    "id": "572c0ade",
    "outputId": "8ad38f4b-46ac-460b-edd1-72e001d80088"
   },
   "outputs": [
    {
     "data": {
      "text/plain": [
       "array(['positive', 'negative', ' negative', ' positive', ' negative '],\n",
       "      dtype=object)"
      ]
     },
     "execution_count": 11,
     "metadata": {},
     "output_type": "execute_result"
    }
   ],
   "source": [
    "df['Sentiment'].unique()"
   ]
  },
  {
   "cell_type": "code",
   "execution_count": 12,
   "id": "4b6e73fd",
   "metadata": {
    "id": "4b6e73fd"
   },
   "outputs": [],
   "source": [
    "#remove all whitespace in colomn labelling\n",
    "def remove_whitespace_multiple(text):\n",
    "    return text.replace(\" \", \"\")\n",
    "\n",
    "df['Sentiment'] = df['Sentiment'].apply(remove_whitespace_multiple)"
   ]
  },
  {
   "cell_type": "code",
   "execution_count": 13,
   "id": "3a5886d8",
   "metadata": {
    "colab": {
     "base_uri": "https://localhost:8080/"
    },
    "id": "3a5886d8",
    "outputId": "961eed42-b475-4d1e-f8ca-3e4c837bde94"
   },
   "outputs": [
    {
     "data": {
      "text/plain": [
       "array(['positive', 'negative'], dtype=object)"
      ]
     },
     "execution_count": 13,
     "metadata": {},
     "output_type": "execute_result"
    }
   ],
   "source": [
    "df['Sentiment'].unique()"
   ]
  },
  {
   "cell_type": "code",
   "execution_count": 14,
   "id": "371e06fc",
   "metadata": {
    "id": "371e06fc"
   },
   "outputs": [],
   "source": [
    "positive = df.loc[df['Sentiment'] == 'positive']"
   ]
  },
  {
   "cell_type": "code",
   "execution_count": 15,
   "id": "7f563b6a",
   "metadata": {
    "colab": {
     "base_uri": "https://localhost:8080/"
    },
    "id": "7f563b6a",
    "outputId": "46ce1e8b-ccfa-41f5-eb10-b24c711c968b"
   },
   "outputs": [
    {
     "data": {
      "text/plain": [
       "positive    3551\n",
       "Name: Sentiment, dtype: int64"
      ]
     },
     "execution_count": 15,
     "metadata": {},
     "output_type": "execute_result"
    }
   ],
   "source": [
    "positive['Sentiment'].value_counts()"
   ]
  },
  {
   "cell_type": "code",
   "execution_count": 16,
   "id": "ebb3ed5a",
   "metadata": {
    "id": "ebb3ed5a"
   },
   "outputs": [],
   "source": [
    "negative = df.loc[df['Sentiment'] == 'negative']"
   ]
  },
  {
   "cell_type": "code",
   "execution_count": 17,
   "id": "28c193ee",
   "metadata": {
    "colab": {
     "base_uri": "https://localhost:8080/"
    },
    "id": "28c193ee",
    "outputId": "f2b18540-e1d9-40a2-cd5d-da1cd0a3bdf1"
   },
   "outputs": [
    {
     "data": {
      "text/plain": [
       "negative    498\n",
       "Name: Sentiment, dtype: int64"
      ]
     },
     "execution_count": 17,
     "metadata": {},
     "output_type": "execute_result"
    }
   ],
   "source": [
    "negative['Sentiment'].value_counts()"
   ]
  },
  {
   "cell_type": "code",
   "execution_count": 18,
   "id": "5910af69",
   "metadata": {
    "colab": {
     "base_uri": "https://localhost:8080/",
     "height": 307
    },
    "id": "5910af69",
    "outputId": "6e498bb4-78e5-4813-be2d-6c031c969de9"
   },
   "outputs": [
    {
     "data": {
      "text/plain": [
       "<AxesSubplot:>"
      ]
     },
     "execution_count": 18,
     "metadata": {},
     "output_type": "execute_result"
    },
    {
     "data": {
      "image/png": "[encoded data removed]",
      "text/plain": [
       "<Figure size 432x288 with 1 Axes>"
      ]
     },
     "metadata": {
      "needs_background": "light"
     },
     "output_type": "display_data"
    }
   ],
   "source": [
    "pd.value_counts(df['Sentiment']).plot.bar()"
   ]
  },
  {
   "cell_type": "code",
   "execution_count": 19,
   "id": "e01f92b5",
   "metadata": {
    "id": "e01f92b5"
   },
   "outputs": [],
   "source": [
    "def apply_sentiment(Sentiment):\n",
    "    if(Sentiment=='positive'):\n",
    "        return 1\n",
    "    else: \n",
    "        return 0"
   ]
  },
  {
   "cell_type": "code",
   "execution_count": 20,
   "id": "f4733d56",
   "metadata": {
    "id": "f4733d56"
   },
   "outputs": [],
   "source": [
    "df['Sentiment']=df['Sentiment'].apply(apply_sentiment)\n",
    "#df.drop(['Rating'],axis=1,inplace=True)"
   ]
  },
  {
   "cell_type": "code",
   "execution_count": 21,
   "id": "974e5f2a",
   "metadata": {
    "colab": {
     "base_uri": "https://localhost:8080/",
     "height": 711
    },
    "id": "974e5f2a",
    "outputId": "af41121c-1187-4e67-df4f-7c771a48e929"
   },
   "outputs": [
    {
     "data": {
      "text/html": [
       "<div>\n",
       "<style scoped>\n",
       "    .dataframe tbody tr th:only-of-type {\n",
       "        vertical-align: middle;\n",
       "    }\n",
       "\n",
       "    .dataframe tbody tr th {\n",
       "        vertical-align: top;\n",
       "    }\n",
       "\n",
       "    .dataframe thead th {\n",
       "        text-align: right;\n",
       "    }\n",
       "</style>\n",
       "<table border=\"1\" class=\"dataframe\">\n",
       "  <thead>\n",
       "    <tr style=\"text-align: right;\">\n",
       "      <th></th>\n",
       "      <th>index</th>\n",
       "      <th>Review</th>\n",
       "      <th>Rating</th>\n",
       "      <th>Sentiment</th>\n",
       "      <th>tokenization</th>\n",
       "      <th>Review_Normalized</th>\n",
       "      <th>df_token_stemm</th>\n",
       "      <th>Review_clean</th>\n",
       "    </tr>\n",
       "  </thead>\n",
       "  <tbody>\n",
       "    <tr>\n",
       "      <th>0</th>\n",
       "      <td>0</td>\n",
       "      <td>enak kuacinya</td>\n",
       "      <td>5</td>\n",
       "      <td>1</td>\n",
       "      <td>['enak', 'kuacinya']</td>\n",
       "      <td>['enak', 'kuacinya']</td>\n",
       "      <td>['enak', 'kuaci']</td>\n",
       "      <td>enak kuaci</td>\n",
       "    </tr>\n",
       "    <tr>\n",
       "      <th>1</th>\n",
       "      <td>1</td>\n",
       "      <td>pengiriman cepat packing bagus sesuai pesanan ...</td>\n",
       "      <td>5</td>\n",
       "      <td>1</td>\n",
       "      <td>['pengiriman', 'cepat', 'packing', 'bagus', 's...</td>\n",
       "      <td>['pengiriman', 'cepat', 'pengemasan', 'bagus',...</td>\n",
       "      <td>['kirim', 'cepat', 'emas', 'bagus', 'sesuai', ...</td>\n",
       "      <td>kirim cepat emas bagus sesuai pesan coba terim...</td>\n",
       "    </tr>\n",
       "    <tr>\n",
       "      <th>2</th>\n",
       "      <td>2</td>\n",
       "      <td>pengemasan luar biasa baik untuk rasa menurut ...</td>\n",
       "      <td>4</td>\n",
       "      <td>0</td>\n",
       "      <td>['pengemasan', 'luar', 'biasa', 'baik', 'untuk...</td>\n",
       "      <td>['pengemasan', 'luar', 'biasa', 'baik', 'untuk...</td>\n",
       "      <td>['emas', 'luar', 'biasa', 'baik', 'untuk', 'ra...</td>\n",
       "      <td>emas dominan asli asli kuaci varian dominan as...</td>\n",
       "    </tr>\n",
       "    <tr>\n",
       "      <th>3</th>\n",
       "      <td>3</td>\n",
       "      <td>terimakasih min</td>\n",
       "      <td>5</td>\n",
       "      <td>1</td>\n",
       "      <td>['terimakasih', 'min']</td>\n",
       "      <td>['terima kasih', 'minimal']</td>\n",
       "      <td>['terima kasih', 'minimal']</td>\n",
       "      <td>terima kasih minimal</td>\n",
       "    </tr>\n",
       "    <tr>\n",
       "      <th>4</th>\n",
       "      <td>4</td>\n",
       "      <td>udah order untuk kesekian kali jos</td>\n",
       "      <td>5</td>\n",
       "      <td>1</td>\n",
       "      <td>['udah', 'order', 'untuk', 'kesekian', 'kali',...</td>\n",
       "      <td>['sudah', 'beli', 'untuk', 'kesekian', 'kali',...</td>\n",
       "      <td>['sudah', 'beli', 'untuk', 'sekian', 'kali', '...</td>\n",
       "      <td>beli sekian kali mantap</td>\n",
       "    </tr>\n",
       "    <tr>\n",
       "      <th>...</th>\n",
       "      <td>...</td>\n",
       "      <td>...</td>\n",
       "      <td>...</td>\n",
       "      <td>...</td>\n",
       "      <td>...</td>\n",
       "      <td>...</td>\n",
       "      <td>...</td>\n",
       "      <td>...</td>\n",
       "    </tr>\n",
       "    <tr>\n",
       "      <th>4044</th>\n",
       "      <td>4055</td>\n",
       "      <td>seller sangat responsif rasa belum dicoba kare...</td>\n",
       "      <td>5</td>\n",
       "      <td>1</td>\n",
       "      <td>['seller', 'sangat', 'responsif', 'rasa', 'bel...</td>\n",
       "      <td>['seller', 'sangat', 'responsif', 'rasa', 'bel...</td>\n",
       "      <td>['seller', 'sangat', 'responsif', 'rasa', 'bel...</td>\n",
       "      <td>seller responsif coba buka</td>\n",
       "    </tr>\n",
       "    <tr>\n",
       "      <th>4045</th>\n",
       "      <td>4056</td>\n",
       "      <td>imut banget packing aman</td>\n",
       "      <td>5</td>\n",
       "      <td>1</td>\n",
       "      <td>['imut', 'banget', 'packing', 'aman']</td>\n",
       "      <td>['imut', 'banget', 'pengemasan', 'aman']</td>\n",
       "      <td>['imut', 'banget', 'emas', 'aman']</td>\n",
       "      <td>imut banget emas aman</td>\n",
       "    </tr>\n",
       "    <tr>\n",
       "      <th>4046</th>\n",
       "      <td>4057</td>\n",
       "      <td>good product trusted seller</td>\n",
       "      <td>5</td>\n",
       "      <td>1</td>\n",
       "      <td>['good', 'product', 'trusted', 'seller']</td>\n",
       "      <td>['good', 'produk', 'dipercaya', 'seller']</td>\n",
       "      <td>['good', 'produk', 'percaya', 'seller']</td>\n",
       "      <td>good produk percaya seller</td>\n",
       "    </tr>\n",
       "    <tr>\n",
       "      <th>4047</th>\n",
       "      <td>4058</td>\n",
       "      <td>sudah beli yg ke</td>\n",
       "      <td>5</td>\n",
       "      <td>1</td>\n",
       "      <td>['sudah', 'beli', 'yg', 'ke']</td>\n",
       "      <td>['sudah', 'beli', 'yang', 'ke']</td>\n",
       "      <td>['sudah', 'beli', 'yang', 'ke']</td>\n",
       "      <td>beli</td>\n",
       "    </tr>\n",
       "    <tr>\n",
       "      <th>4048</th>\n",
       "      <td>4059</td>\n",
       "      <td>byk campurannya</td>\n",
       "      <td>4</td>\n",
       "      <td>0</td>\n",
       "      <td>['byk', 'campurannya']</td>\n",
       "      <td>['banyak', 'campurannya']</td>\n",
       "      <td>['banyak', 'campur']</td>\n",
       "      <td>campur</td>\n",
       "    </tr>\n",
       "  </tbody>\n",
       "</table>\n",
       "<p>4049 rows × 8 columns</p>\n",
       "</div>"
      ],
      "text/plain": [
       "      index                                             Review  Rating  \\\n",
       "0         0                                      enak kuacinya       5   \n",
       "1         1  pengiriman cepat packing bagus sesuai pesanan ...       5   \n",
       "2         2  pengemasan luar biasa baik untuk rasa menurut ...       4   \n",
       "3         3                                    terimakasih min       5   \n",
       "4         4                 udah order untuk kesekian kali jos       5   \n",
       "...     ...                                                ...     ...   \n",
       "4044   4055  seller sangat responsif rasa belum dicoba kare...       5   \n",
       "4045   4056                           imut banget packing aman       5   \n",
       "4046   4057                        good product trusted seller       5   \n",
       "4047   4058                                  sudah beli yg ke        5   \n",
       "4048   4059                                    byk campurannya       4   \n",
       "\n",
       "      Sentiment                                       tokenization  \\\n",
       "0             1                               ['enak', 'kuacinya']   \n",
       "1             1  ['pengiriman', 'cepat', 'packing', 'bagus', 's...   \n",
       "2             0  ['pengemasan', 'luar', 'biasa', 'baik', 'untuk...   \n",
       "3             1                             ['terimakasih', 'min']   \n",
       "4             1  ['udah', 'order', 'untuk', 'kesekian', 'kali',...   \n",
       "...         ...                                                ...   \n",
       "4044          1  ['seller', 'sangat', 'responsif', 'rasa', 'bel...   \n",
       "4045          1              ['imut', 'banget', 'packing', 'aman']   \n",
       "4046          1           ['good', 'product', 'trusted', 'seller']   \n",
       "4047          1                      ['sudah', 'beli', 'yg', 'ke']   \n",
       "4048          0                             ['byk', 'campurannya']   \n",
       "\n",
       "                                      Review_Normalized  \\\n",
       "0                                  ['enak', 'kuacinya']   \n",
       "1     ['pengiriman', 'cepat', 'pengemasan', 'bagus',...   \n",
       "2     ['pengemasan', 'luar', 'biasa', 'baik', 'untuk...   \n",
       "3                           ['terima kasih', 'minimal']   \n",
       "4     ['sudah', 'beli', 'untuk', 'kesekian', 'kali',...   \n",
       "...                                                 ...   \n",
       "4044  ['seller', 'sangat', 'responsif', 'rasa', 'bel...   \n",
       "4045           ['imut', 'banget', 'pengemasan', 'aman']   \n",
       "4046          ['good', 'produk', 'dipercaya', 'seller']   \n",
       "4047                    ['sudah', 'beli', 'yang', 'ke']   \n",
       "4048                          ['banyak', 'campurannya']   \n",
       "\n",
       "                                         df_token_stemm  \\\n",
       "0                                     ['enak', 'kuaci']   \n",
       "1     ['kirim', 'cepat', 'emas', 'bagus', 'sesuai', ...   \n",
       "2     ['emas', 'luar', 'biasa', 'baik', 'untuk', 'ra...   \n",
       "3                           ['terima kasih', 'minimal']   \n",
       "4     ['sudah', 'beli', 'untuk', 'sekian', 'kali', '...   \n",
       "...                                                 ...   \n",
       "4044  ['seller', 'sangat', 'responsif', 'rasa', 'bel...   \n",
       "4045                 ['imut', 'banget', 'emas', 'aman']   \n",
       "4046            ['good', 'produk', 'percaya', 'seller']   \n",
       "4047                    ['sudah', 'beli', 'yang', 'ke']   \n",
       "4048                               ['banyak', 'campur']   \n",
       "\n",
       "                                           Review_clean  \n",
       "0                                            enak kuaci  \n",
       "1     kirim cepat emas bagus sesuai pesan coba terim...  \n",
       "2     emas dominan asli asli kuaci varian dominan as...  \n",
       "3                                  terima kasih minimal  \n",
       "4                               beli sekian kali mantap  \n",
       "...                                                 ...  \n",
       "4044                         seller responsif coba buka  \n",
       "4045                              imut banget emas aman  \n",
       "4046                         good produk percaya seller  \n",
       "4047                                               beli  \n",
       "4048                                             campur  \n",
       "\n",
       "[4049 rows x 8 columns]"
      ]
     },
     "execution_count": 21,
     "metadata": {},
     "output_type": "execute_result"
    }
   ],
   "source": [
    "df"
   ]
  },
  {
   "cell_type": "code",
   "execution_count": 22,
   "id": "e7582f2a",
   "metadata": {
    "colab": {
     "base_uri": "https://localhost:8080/"
    },
    "id": "e7582f2a",
    "outputId": "73a65276-9aac-4e06-c768-21fc96ade9dc"
   },
   "outputs": [
    {
     "name": "stdout",
     "output_type": "stream",
     "text": [
      "<class 'pandas.core.frame.DataFrame'>\n",
      "RangeIndex: 4049 entries, 0 to 4048\n",
      "Data columns (total 8 columns):\n",
      " #   Column             Non-Null Count  Dtype \n",
      "---  ------             --------------  ----- \n",
      " 0   index              4049 non-null   int64 \n",
      " 1   Review             4049 non-null   object\n",
      " 2   Rating             4049 non-null   int64 \n",
      " 3   Sentiment          4049 non-null   int64 \n",
      " 4   tokenization       4049 non-null   object\n",
      " 5   Review_Normalized  4049 non-null   object\n",
      " 6   df_token_stemm     4049 non-null   object\n",
      " 7   Review_clean       4049 non-null   object\n",
      "dtypes: int64(3), object(5)\n",
      "memory usage: 253.2+ KB\n"
     ]
    }
   ],
   "source": [
    "df.info()"
   ]
  },
  {
   "cell_type": "code",
   "execution_count": 23,
   "id": "b0b35681",
   "metadata": {
    "colab": {
     "base_uri": "https://localhost:8080/"
    },
    "id": "b0b35681",
    "outputId": "3756fe05-61fd-4998-c20c-6476e97ddc51"
   },
   "outputs": [
    {
     "name": "stdout",
     "output_type": "stream",
     "text": [
      "      index                                             Review  Rating  \\\n",
      "0         0                                      enak kuacinya       5   \n",
      "1         1  pengiriman cepat packing bagus sesuai pesanan ...       5   \n",
      "2         2  pengemasan luar biasa baik untuk rasa menurut ...       4   \n",
      "3         3                                    terimakasih min       5   \n",
      "4         4                 udah order untuk kesekian kali jos       5   \n",
      "...     ...                                                ...     ...   \n",
      "4044   4055  seller sangat responsif rasa belum dicoba kare...       5   \n",
      "4045   4056                           imut banget packing aman       5   \n",
      "4046   4057                        good product trusted seller       5   \n",
      "4047   4058                                  sudah beli yg ke        5   \n",
      "4048   4059                                    byk campurannya       4   \n",
      "\n",
      "      Sentiment                                       tokenization  \\\n",
      "0             1                               ['enak', 'kuacinya']   \n",
      "1             1  ['pengiriman', 'cepat', 'packing', 'bagus', 's...   \n",
      "2             0  ['pengemasan', 'luar', 'biasa', 'baik', 'untuk...   \n",
      "3             1                             ['terimakasih', 'min']   \n",
      "4             1  ['udah', 'order', 'untuk', 'kesekian', 'kali',...   \n",
      "...         ...                                                ...   \n",
      "4044          1  ['seller', 'sangat', 'responsif', 'rasa', 'bel...   \n",
      "4045          1              ['imut', 'banget', 'packing', 'aman']   \n",
      "4046          1           ['good', 'product', 'trusted', 'seller']   \n",
      "4047          1                      ['sudah', 'beli', 'yg', 'ke']   \n",
      "4048          0                             ['byk', 'campurannya']   \n",
      "\n",
      "                                      Review_Normalized  \\\n",
      "0                                  ['enak', 'kuacinya']   \n",
      "1     ['pengiriman', 'cepat', 'pengemasan', 'bagus',...   \n",
      "2     ['pengemasan', 'luar', 'biasa', 'baik', 'untuk...   \n",
      "3                           ['terima kasih', 'minimal']   \n",
      "4     ['sudah', 'beli', 'untuk', 'kesekian', 'kali',...   \n",
      "...                                                 ...   \n",
      "4044  ['seller', 'sangat', 'responsif', 'rasa', 'bel...   \n",
      "4045           ['imut', 'banget', 'pengemasan', 'aman']   \n",
      "4046          ['good', 'produk', 'dipercaya', 'seller']   \n",
      "4047                    ['sudah', 'beli', 'yang', 'ke']   \n",
      "4048                          ['banyak', 'campurannya']   \n",
      "\n",
      "                                         df_token_stemm  \\\n",
      "0                                     ['enak', 'kuaci']   \n",
      "1     ['kirim', 'cepat', 'emas', 'bagus', 'sesuai', ...   \n",
      "2     ['emas', 'luar', 'biasa', 'baik', 'untuk', 'ra...   \n",
      "3                           ['terima kasih', 'minimal']   \n",
      "4     ['sudah', 'beli', 'untuk', 'sekian', 'kali', '...   \n",
      "...                                                 ...   \n",
      "4044  ['seller', 'sangat', 'responsif', 'rasa', 'bel...   \n",
      "4045                 ['imut', 'banget', 'emas', 'aman']   \n",
      "4046            ['good', 'produk', 'percaya', 'seller']   \n",
      "4047                    ['sudah', 'beli', 'yang', 'ke']   \n",
      "4048                               ['banyak', 'campur']   \n",
      "\n",
      "                                           Review_clean  \n",
      "0                                            enak kuaci  \n",
      "1     kirim cepat emas bagus sesuai pesan coba terim...  \n",
      "2     emas dominan asli asli kuaci varian dominan as...  \n",
      "3                                  terima kasih minimal  \n",
      "4                               beli sekian kali mantap  \n",
      "...                                                 ...  \n",
      "4044                         seller responsif coba buka  \n",
      "4045                              imut banget emas aman  \n",
      "4046                         good produk percaya seller  \n",
      "4047                                               beli  \n",
      "4048                                             campur  \n",
      "\n",
      "[4049 rows x 8 columns]\n"
     ]
    }
   ],
   "source": [
    "print(df)"
   ]
  },
  {
   "cell_type": "code",
   "execution_count": 24,
   "id": "bb24d26f",
   "metadata": {
    "id": "bb24d26f"
   },
   "outputs": [],
   "source": [
    "clf1 = MultinomialNB()\n",
    "clf2 = svm.SVC(kernel='linear', C=1.0,random_state=2)\n",
    "clf3 = DecisionTreeClassifier(random_state=2)"
   ]
  },
  {
   "cell_type": "code",
   "execution_count": 25,
   "id": "accf99c6",
   "metadata": {
    "id": "accf99c6"
   },
   "outputs": [],
   "source": [
    "estimators = [('bayes', MultinomialNB()),\n",
    "               ('svm', svm.SVC(kernel='linear', C=1.0,random_state=2)),\n",
    "               ('dt', DecisionTreeClassifier(random_state=2))]"
   ]
  },
  {
   "cell_type": "code",
   "execution_count": 26,
   "id": "76e40c11",
   "metadata": {
    "id": "76e40c11"
   },
   "outputs": [],
   "source": [
    "clf4 = StackingClassifier(estimators=estimators, \n",
    "                         final_estimator=LogisticRegression())"
   ]
  },
  {
   "cell_type": "code",
   "execution_count": 27,
   "id": "9571e618",
   "metadata": {
    "id": "9571e618"
   },
   "outputs": [],
   "source": [
    "#tf-Idf vectorizer\n",
    "vectorizer = TfidfVectorizer(max_df=0.90, min_df=0.01) \n",
    "#x1 = vectorizer.fit_transform(df['Review_clean'].dropna().values.astype('U')) \n",
    "#x1 = vectorizer.fit_transform(df['Review_clean']) \n",
    "x1 = df['Review_clean']\n",
    "y1 =  df['Sentiment']"
   ]
  },
  {
   "cell_type": "code",
   "execution_count": 28,
   "id": "a8d8cdba",
   "metadata": {
    "id": "a8d8cdba"
   },
   "outputs": [],
   "source": [
    "X1_train,X1_test,y1_train,y1_test = train_test_split(x1,y1,\n",
    "                                                 test_size=0.2,\n",
    "                                                 random_state = 42)"
   ]
  },
  {
   "cell_type": "code",
   "execution_count": 29,
   "id": "wjTzr2AE0FUn",
   "metadata": {
    "id": "wjTzr2AE0FUn"
   },
   "outputs": [],
   "source": [
    "data_train = pd.DataFrame()\n",
    "data_train['Review_clean'] = X1_train\n",
    "data_train['Sentiment'] = y1_train\n",
    "\n",
    "data_test = pd.DataFrame()\n",
    "data_test['Review_clean'] = X1_test\n",
    "data_test['Sentiment'] = y1_test"
   ]
  },
  {
   "cell_type": "code",
   "execution_count": 30,
   "id": "4hXxZ2h91LId",
   "metadata": {
    "id": "4hXxZ2h91LId"
   },
   "outputs": [],
   "source": [
    "vectorizer.fit(df['Review_clean'])\n",
    "data_train_x = vectorizer.transform(data_train['Review_clean']) \n",
    "data_test_x = vectorizer.transform(data_test['Review_clean'])"
   ]
  },
  {
   "cell_type": "code",
   "execution_count": 31,
   "id": "ff551d0a",
   "metadata": {
    "colab": {
     "base_uri": "https://localhost:8080/"
    },
    "id": "ff551d0a",
    "outputId": "f80270cb-47b8-4417-b71f-fca367ec6c45"
   },
   "outputs": [
    {
     "name": "stdout",
     "output_type": "stream",
     "text": [
      "Counter({1: 2843, 0: 396})\n",
      "Counter({1: 708, 0: 102})\n"
     ]
    }
   ],
   "source": [
    "from collections import Counter\n",
    "print(Counter(y1_train))\n",
    "print(Counter(y1_test))"
   ]
  },
  {
   "cell_type": "code",
   "execution_count": null,
   "id": "fv8E2SPcUEwF",
   "metadata": {
    "id": "fv8E2SPcUEwF"
   },
   "outputs": [],
   "source": []
  },
  {
   "cell_type": "markdown",
   "id": "hUwP-iqZ5Q4V",
   "metadata": {
    "id": "hUwP-iqZ5Q4V"
   },
   "source": [
    "# Implementation Model Naive Bayes"
   ]
  },
  {
   "cell_type": "code",
   "execution_count": 32,
   "id": "888e5989",
   "metadata": {
    "colab": {
     "base_uri": "https://localhost:8080/"
    },
    "id": "888e5989",
    "outputId": "83ffef25-5356-41bc-da47-0b52b3fd04e3"
   },
   "outputs": [
    {
     "data": {
      "text/html": [
       "<style>#sk-container-id-1 {color: black;background-color: white;}#sk-container-id-1 pre{padding: 0;}#sk-container-id-1 div.sk-toggleable {background-color: white;}#sk-container-id-1 label.sk-toggleable__label {cursor: pointer;display: block;width: 100%;margin-bottom: 0;padding: 0.3em;box-sizing: border-box;text-align: center;}#sk-container-id-1 label.sk-toggleable__label-arrow:before {content: \"▸\";float: left;margin-right: 0.25em;color: #696969;}#sk-container-id-1 label.sk-toggleable__label-arrow:hover:before {color: black;}#sk-container-id-1 div.sk-estimator:hover label.sk-toggleable__label-arrow:before {color: black;}#sk-container-id-1 div.sk-toggleable__content {max-height: 0;max-width: 0;overflow: hidden;text-align: left;background-color: #f0f8ff;}#sk-container-id-1 div.sk-toggleable__content pre {margin: 0.2em;color: black;border-radius: 0.25em;background-color: #f0f8ff;}#sk-container-id-1 input.sk-toggleable__control:checked~div.sk-toggleable__content {max-height: 200px;max-width: 100%;overflow: auto;}#sk-container-id-1 input.sk-toggleable__control:checked~label.sk-toggleable__label-arrow:before {content: \"▾\";}#sk-container-id-1 div.sk-estimator input.sk-toggleable__control:checked~label.sk-toggleable__label {background-color: #d4ebff;}#sk-container-id-1 div.sk-label input.sk-toggleable__control:checked~label.sk-toggleable__label {background-color: #d4ebff;}#sk-container-id-1 input.sk-hidden--visually {border: 0;clip: rect(1px 1px 1px 1px);clip: rect(1px, 1px, 1px, 1px);height: 1px;margin: -1px;overflow: hidden;padding: 0;position: absolute;width: 1px;}#sk-container-id-1 div.sk-estimator {font-family: monospace;background-color: #f0f8ff;border: 1px dotted black;border-radius: 0.25em;box-sizing: border-box;margin-bottom: 0.5em;}#sk-container-id-1 div.sk-estimator:hover {background-color: #d4ebff;}#sk-container-id-1 div.sk-parallel-item::after {content: \"\";width: 100%;border-bottom: 1px solid gray;flex-grow: 1;}#sk-container-id-1 div.sk-label:hover label.sk-toggleable__label {background-color: #d4ebff;}#sk-container-id-1 div.sk-serial::before {content: \"\";position: absolute;border-left: 1px solid gray;box-sizing: border-box;top: 0;bottom: 0;left: 50%;z-index: 0;}#sk-container-id-1 div.sk-serial {display: flex;flex-direction: column;align-items: center;background-color: white;padding-right: 0.2em;padding-left: 0.2em;position: relative;}#sk-container-id-1 div.sk-item {position: relative;z-index: 1;}#sk-container-id-1 div.sk-parallel {display: flex;align-items: stretch;justify-content: center;background-color: white;position: relative;}#sk-container-id-1 div.sk-item::before, #sk-container-id-1 div.sk-parallel-item::before {content: \"\";position: absolute;border-left: 1px solid gray;box-sizing: border-box;top: 0;bottom: 0;left: 50%;z-index: -1;}#sk-container-id-1 div.sk-parallel-item {display: flex;flex-direction: column;z-index: 1;position: relative;background-color: white;}#sk-container-id-1 div.sk-parallel-item:first-child::after {align-self: flex-end;width: 50%;}#sk-container-id-1 div.sk-parallel-item:last-child::after {align-self: flex-start;width: 50%;}#sk-container-id-1 div.sk-parallel-item:only-child::after {width: 0;}#sk-container-id-1 div.sk-dashed-wrapped {border: 1px dashed gray;margin: 0 0.4em 0.5em 0.4em;box-sizing: border-box;padding-bottom: 0.4em;background-color: white;}#sk-container-id-1 div.sk-label label {font-family: monospace;font-weight: bold;display: inline-block;line-height: 1.2em;}#sk-container-id-1 div.sk-label-container {text-align: center;}#sk-container-id-1 div.sk-container {/* jupyter's `normalize.less` sets `[hidden] { display: none; }` but bootstrap.min.css set `[hidden] { display: none !important; }` so we also need the `!important` here to be able to override the default hidden behavior on the sphinx rendered scikit-learn.org. See: https://github.com/scikit-learn/scikit-learn/issues/21755 */display: inline-block !important;position: relative;}#sk-container-id-1 div.sk-text-repr-fallback {display: none;}</style><div id=\"sk-container-id-1\" class=\"sk-top-container\"><div class=\"sk-text-repr-fallback\"><pre>MultinomialNB()</pre><b>In a Jupyter environment, please rerun this cell to show the HTML representation or trust the notebook. <br />On GitHub, the HTML representation is unable to render, please try loading this page with nbviewer.org.</b></div><div class=\"sk-container\" hidden><div class=\"sk-item\"><div class=\"sk-estimator sk-toggleable\"><input class=\"sk-toggleable__control sk-hidden--visually\" id=\"sk-estimator-id-1\" type=\"checkbox\" checked><label for=\"sk-estimator-id-1\" class=\"sk-toggleable__label sk-toggleable__label-arrow\">MultinomialNB</label><div class=\"sk-toggleable__content\"><pre>MultinomialNB()</pre></div></div></div></div></div>"
      ],
      "text/plain": [
       "MultinomialNB()"
      ]
     },
     "execution_count": 32,
     "metadata": {},
     "output_type": "execute_result"
    }
   ],
   "source": [
    "clf1.fit(data_train_x.toarray(), y1_train)"
   ]
  },
  {
   "cell_type": "code",
   "execution_count": 33,
   "id": "37203d8f",
   "metadata": {
    "colab": {
     "base_uri": "https://localhost:8080/"
    },
    "id": "37203d8f",
    "outputId": "8e1cc206-980a-4cf9-d8d9-553175fe6799"
   },
   "outputs": [
    {
     "data": {
      "text/plain": [
       "0.8888888888888888"
      ]
     },
     "execution_count": 33,
     "metadata": {},
     "output_type": "execute_result"
    }
   ],
   "source": [
    "clf1.score(data_test_x.toarray(),y1_test)"
   ]
  },
  {
   "cell_type": "code",
   "execution_count": 34,
   "id": "a4520916",
   "metadata": {
    "colab": {
     "base_uri": "https://localhost:8080/"
    },
    "id": "a4520916",
    "outputId": "d53dd675-71ff-4812-941d-a10143e403ac"
   },
   "outputs": [
    {
     "name": "stdout",
     "output_type": "stream",
     "text": [
      "88.89%\n"
     ]
    }
   ],
   "source": [
    "pred_nb1 = clf1.predict(data_test_x.toarray())\n",
    "acc_nb1 = metrics.accuracy_score(pred_nb1, y1_test)\n",
    "print(str('{:04.2f}'.format(acc_nb1*100))+'%')"
   ]
  },
  {
   "cell_type": "code",
   "execution_count": 35,
   "id": "e3508300",
   "metadata": {
    "colab": {
     "base_uri": "https://localhost:8080/"
    },
    "id": "e3508300",
    "outputId": "f75cd7a8-020f-4247-cf15-f7c9ef8cfebe"
   },
   "outputs": [
    {
     "name": "stdout",
     "output_type": "stream",
     "text": [
      "              precision    recall  f1-score   support\n",
      "\n",
      "    negative       0.83      0.15      0.25       102\n",
      "    positive       0.89      1.00      0.94       708\n",
      "\n",
      "    accuracy                           0.89       810\n",
      "   macro avg       0.86      0.57      0.59       810\n",
      "weighted avg       0.88      0.89      0.85       810\n",
      "\n"
     ]
    }
   ],
   "source": [
    "## Matrics evaluation for classification Naive Bayes Scen 1\n",
    "print(classification_report(y1_test, pred_nb1, target_names=['negative','positive']))"
   ]
  },
  {
   "cell_type": "markdown",
   "id": "WAZrniLv5dSy",
   "metadata": {
    "id": "WAZrniLv5dSy"
   },
   "source": [
    "# Implementation Model Support Vector Machine"
   ]
  },
  {
   "cell_type": "code",
   "execution_count": 36,
   "id": "71f531bd",
   "metadata": {
    "colab": {
     "base_uri": "https://localhost:8080/"
    },
    "id": "71f531bd",
    "outputId": "211355f8-212e-4dc0-f19b-0eba3daf0671"
   },
   "outputs": [
    {
     "data": {
      "text/html": [
       "<style>#sk-container-id-2 {color: black;background-color: white;}#sk-container-id-2 pre{padding: 0;}#sk-container-id-2 div.sk-toggleable {background-color: white;}#sk-container-id-2 label.sk-toggleable__label {cursor: pointer;display: block;width: 100%;margin-bottom: 0;padding: 0.3em;box-sizing: border-box;text-align: center;}#sk-container-id-2 label.sk-toggleable__label-arrow:before {content: \"▸\";float: left;margin-right: 0.25em;color: #696969;}#sk-container-id-2 label.sk-toggleable__label-arrow:hover:before {color: black;}#sk-container-id-2 div.sk-estimator:hover label.sk-toggleable__label-arrow:before {color: black;}#sk-container-id-2 div.sk-toggleable__content {max-height: 0;max-width: 0;overflow: hidden;text-align: left;background-color: #f0f8ff;}#sk-container-id-2 div.sk-toggleable__content pre {margin: 0.2em;color: black;border-radius: 0.25em;background-color: #f0f8ff;}#sk-container-id-2 input.sk-toggleable__control:checked~div.sk-toggleable__content {max-height: 200px;max-width: 100%;overflow: auto;}#sk-container-id-2 input.sk-toggleable__control:checked~label.sk-toggleable__label-arrow:before {content: \"▾\";}#sk-container-id-2 div.sk-estimator input.sk-toggleable__control:checked~label.sk-toggleable__label {background-color: #d4ebff;}#sk-container-id-2 div.sk-label input.sk-toggleable__control:checked~label.sk-toggleable__label {background-color: #d4ebff;}#sk-container-id-2 input.sk-hidden--visually {border: 0;clip: rect(1px 1px 1px 1px);clip: rect(1px, 1px, 1px, 1px);height: 1px;margin: -1px;overflow: hidden;padding: 0;position: absolute;width: 1px;}#sk-container-id-2 div.sk-estimator {font-family: monospace;background-color: #f0f8ff;border: 1px dotted black;border-radius: 0.25em;box-sizing: border-box;margin-bottom: 0.5em;}#sk-container-id-2 div.sk-estimator:hover {background-color: #d4ebff;}#sk-container-id-2 div.sk-parallel-item::after {content: \"\";width: 100%;border-bottom: 1px solid gray;flex-grow: 1;}#sk-container-id-2 div.sk-label:hover label.sk-toggleable__label {background-color: #d4ebff;}#sk-container-id-2 div.sk-serial::before {content: \"\";position: absolute;border-left: 1px solid gray;box-sizing: border-box;top: 0;bottom: 0;left: 50%;z-index: 0;}#sk-container-id-2 div.sk-serial {display: flex;flex-direction: column;align-items: center;background-color: white;padding-right: 0.2em;padding-left: 0.2em;position: relative;}#sk-container-id-2 div.sk-item {position: relative;z-index: 1;}#sk-container-id-2 div.sk-parallel {display: flex;align-items: stretch;justify-content: center;background-color: white;position: relative;}#sk-container-id-2 div.sk-item::before, #sk-container-id-2 div.sk-parallel-item::before {content: \"\";position: absolute;border-left: 1px solid gray;box-sizing: border-box;top: 0;bottom: 0;left: 50%;z-index: -1;}#sk-container-id-2 div.sk-parallel-item {display: flex;flex-direction: column;z-index: 1;position: relative;background-color: white;}#sk-container-id-2 div.sk-parallel-item:first-child::after {align-self: flex-end;width: 50%;}#sk-container-id-2 div.sk-parallel-item:last-child::after {align-self: flex-start;width: 50%;}#sk-container-id-2 div.sk-parallel-item:only-child::after {width: 0;}#sk-container-id-2 div.sk-dashed-wrapped {border: 1px dashed gray;margin: 0 0.4em 0.5em 0.4em;box-sizing: border-box;padding-bottom: 0.4em;background-color: white;}#sk-container-id-2 div.sk-label label {font-family: monospace;font-weight: bold;display: inline-block;line-height: 1.2em;}#sk-container-id-2 div.sk-label-container {text-align: center;}#sk-container-id-2 div.sk-container {/* jupyter's `normalize.less` sets `[hidden] { display: none; }` but bootstrap.min.css set `[hidden] { display: none !important; }` so we also need the `!important` here to be able to override the default hidden behavior on the sphinx rendered scikit-learn.org. See: https://github.com/scikit-learn/scikit-learn/issues/21755 */display: inline-block !important;position: relative;}#sk-container-id-2 div.sk-text-repr-fallback {display: none;}</style><div id=\"sk-container-id-2\" class=\"sk-top-container\"><div class=\"sk-text-repr-fallback\"><pre>SVC(kernel=&#x27;linear&#x27;, random_state=2)</pre><b>In a Jupyter environment, please rerun this cell to show the HTML representation or trust the notebook. <br />On GitHub, the HTML representation is unable to render, please try loading this page with nbviewer.org.</b></div><div class=\"sk-container\" hidden><div class=\"sk-item\"><div class=\"sk-estimator sk-toggleable\"><input class=\"sk-toggleable__control sk-hidden--visually\" id=\"sk-estimator-id-2\" type=\"checkbox\" checked><label for=\"sk-estimator-id-2\" class=\"sk-toggleable__label sk-toggleable__label-arrow\">SVC</label><div class=\"sk-toggleable__content\"><pre>SVC(kernel=&#x27;linear&#x27;, random_state=2)</pre></div></div></div></div></div>"
      ],
      "text/plain": [
       "SVC(kernel='linear', random_state=2)"
      ]
     },
     "execution_count": 36,
     "metadata": {},
     "output_type": "execute_result"
    }
   ],
   "source": [
    "clf2.fit(data_train_x.toarray(), y1_train)"
   ]
  },
  {
   "cell_type": "code",
   "execution_count": 37,
   "id": "1285f8fb",
   "metadata": {
    "colab": {
     "base_uri": "https://localhost:8080/"
    },
    "id": "1285f8fb",
    "outputId": "474e9350-06e3-414a-abfe-3633056e8a48"
   },
   "outputs": [
    {
     "data": {
      "text/plain": [
       "0.8950617283950617"
      ]
     },
     "execution_count": 37,
     "metadata": {},
     "output_type": "execute_result"
    }
   ],
   "source": [
    "clf2.score(data_test_x.toarray(),y1_test)"
   ]
  },
  {
   "cell_type": "code",
   "execution_count": 38,
   "id": "f23d9ad4",
   "metadata": {
    "colab": {
     "base_uri": "https://localhost:8080/"
    },
    "id": "f23d9ad4",
    "outputId": "f2419bec-3b99-4c1a-cdd3-acd3ef9a7727"
   },
   "outputs": [
    {
     "name": "stdout",
     "output_type": "stream",
     "text": [
      "89.51%\n"
     ]
    }
   ],
   "source": [
    "pred_svm1 = clf2.predict(data_test_x.toarray())\n",
    "acc_svm1 = metrics.accuracy_score(pred_svm1, y1_test)\n",
    "print(str('{:04.2f}'.format(acc_svm1*100))+'%')"
   ]
  },
  {
   "cell_type": "code",
   "execution_count": 39,
   "id": "0845c558",
   "metadata": {
    "colab": {
     "base_uri": "https://localhost:8080/"
    },
    "id": "0845c558",
    "outputId": "24347d18-9c06-4c1d-c141-a566b309148e"
   },
   "outputs": [
    {
     "name": "stdout",
     "output_type": "stream",
     "text": [
      "              precision    recall  f1-score   support\n",
      "\n",
      "    negative       0.79      0.23      0.35       102\n",
      "    positive       0.90      0.99      0.94       708\n",
      "\n",
      "    accuracy                           0.90       810\n",
      "   macro avg       0.85      0.61      0.65       810\n",
      "weighted avg       0.89      0.90      0.87       810\n",
      "\n"
     ]
    }
   ],
   "source": [
    "## Matrics evaluation for classification Support Vector Machines Scen 1\n",
    "print(classification_report(y1_test, pred_svm1, target_names=['negative','positive']))"
   ]
  },
  {
   "cell_type": "markdown",
   "id": "0gVWKwmQ5jxY",
   "metadata": {
    "id": "0gVWKwmQ5jxY"
   },
   "source": [
    "# Implementation Model Decision Tree"
   ]
  },
  {
   "cell_type": "code",
   "execution_count": 40,
   "id": "265b2bae",
   "metadata": {
    "colab": {
     "base_uri": "https://localhost:8080/"
    },
    "id": "265b2bae",
    "outputId": "9770774d-6eb5-4903-9d0c-33c722de3ef9"
   },
   "outputs": [
    {
     "data": {
      "text/html": [
       "<style>#sk-container-id-3 {color: black;background-color: white;}#sk-container-id-3 pre{padding: 0;}#sk-container-id-3 div.sk-toggleable {background-color: white;}#sk-container-id-3 label.sk-toggleable__label {cursor: pointer;display: block;width: 100%;margin-bottom: 0;padding: 0.3em;box-sizing: border-box;text-align: center;}#sk-container-id-3 label.sk-toggleable__label-arrow:before {content: \"▸\";float: left;margin-right: 0.25em;color: #696969;}#sk-container-id-3 label.sk-toggleable__label-arrow:hover:before {color: black;}#sk-container-id-3 div.sk-estimator:hover label.sk-toggleable__label-arrow:before {color: black;}#sk-container-id-3 div.sk-toggleable__content {max-height: 0;max-width: 0;overflow: hidden;text-align: left;background-color: #f0f8ff;}#sk-container-id-3 div.sk-toggleable__content pre {margin: 0.2em;color: black;border-radius: 0.25em;background-color: #f0f8ff;}#sk-container-id-3 input.sk-toggleable__control:checked~div.sk-toggleable__content {max-height: 200px;max-width: 100%;overflow: auto;}#sk-container-id-3 input.sk-toggleable__control:checked~label.sk-toggleable__label-arrow:before {content: \"▾\";}#sk-container-id-3 div.sk-estimator input.sk-toggleable__control:checked~label.sk-toggleable__label {background-color: #d4ebff;}#sk-container-id-3 div.sk-label input.sk-toggleable__control:checked~label.sk-toggleable__label {background-color: #d4ebff;}#sk-container-id-3 input.sk-hidden--visually {border: 0;clip: rect(1px 1px 1px 1px);clip: rect(1px, 1px, 1px, 1px);height: 1px;margin: -1px;overflow: hidden;padding: 0;position: absolute;width: 1px;}#sk-container-id-3 div.sk-estimator {font-family: monospace;background-color: #f0f8ff;border: 1px dotted black;border-radius: 0.25em;box-sizing: border-box;margin-bottom: 0.5em;}#sk-container-id-3 div.sk-estimator:hover {background-color: #d4ebff;}#sk-container-id-3 div.sk-parallel-item::after {content: \"\";width: 100%;border-bottom: 1px solid gray;flex-grow: 1;}#sk-container-id-3 div.sk-label:hover label.sk-toggleable__label {background-color: #d4ebff;}#sk-container-id-3 div.sk-serial::before {content: \"\";position: absolute;border-left: 1px solid gray;box-sizing: border-box;top: 0;bottom: 0;left: 50%;z-index: 0;}#sk-container-id-3 div.sk-serial {display: flex;flex-direction: column;align-items: center;background-color: white;padding-right: 0.2em;padding-left: 0.2em;position: relative;}#sk-container-id-3 div.sk-item {position: relative;z-index: 1;}#sk-container-id-3 div.sk-parallel {display: flex;align-items: stretch;justify-content: center;background-color: white;position: relative;}#sk-container-id-3 div.sk-item::before, #sk-container-id-3 div.sk-parallel-item::before {content: \"\";position: absolute;border-left: 1px solid gray;box-sizing: border-box;top: 0;bottom: 0;left: 50%;z-index: -1;}#sk-container-id-3 div.sk-parallel-item {display: flex;flex-direction: column;z-index: 1;position: relative;background-color: white;}#sk-container-id-3 div.sk-parallel-item:first-child::after {align-self: flex-end;width: 50%;}#sk-container-id-3 div.sk-parallel-item:last-child::after {align-self: flex-start;width: 50%;}#sk-container-id-3 div.sk-parallel-item:only-child::after {width: 0;}#sk-container-id-3 div.sk-dashed-wrapped {border: 1px dashed gray;margin: 0 0.4em 0.5em 0.4em;box-sizing: border-box;padding-bottom: 0.4em;background-color: white;}#sk-container-id-3 div.sk-label label {font-family: monospace;font-weight: bold;display: inline-block;line-height: 1.2em;}#sk-container-id-3 div.sk-label-container {text-align: center;}#sk-container-id-3 div.sk-container {/* jupyter's `normalize.less` sets `[hidden] { display: none; }` but bootstrap.min.css set `[hidden] { display: none !important; }` so we also need the `!important` here to be able to override the default hidden behavior on the sphinx rendered scikit-learn.org. See: https://github.com/scikit-learn/scikit-learn/issues/21755 */display: inline-block !important;position: relative;}#sk-container-id-3 div.sk-text-repr-fallback {display: none;}</style><div id=\"sk-container-id-3\" class=\"sk-top-container\"><div class=\"sk-text-repr-fallback\"><pre>DecisionTreeClassifier(random_state=2)</pre><b>In a Jupyter environment, please rerun this cell to show the HTML representation or trust the notebook. <br />On GitHub, the HTML representation is unable to render, please try loading this page with nbviewer.org.</b></div><div class=\"sk-container\" hidden><div class=\"sk-item\"><div class=\"sk-estimator sk-toggleable\"><input class=\"sk-toggleable__control sk-hidden--visually\" id=\"sk-estimator-id-3\" type=\"checkbox\" checked><label for=\"sk-estimator-id-3\" class=\"sk-toggleable__label sk-toggleable__label-arrow\">DecisionTreeClassifier</label><div class=\"sk-toggleable__content\"><pre>DecisionTreeClassifier(random_state=2)</pre></div></div></div></div></div>"
      ],
      "text/plain": [
       "DecisionTreeClassifier(random_state=2)"
      ]
     },
     "execution_count": 40,
     "metadata": {},
     "output_type": "execute_result"
    }
   ],
   "source": [
    "clf3.fit(data_train_x.toarray(), y1_train)"
   ]
  },
  {
   "cell_type": "code",
   "execution_count": 41,
   "id": "24edbcb6",
   "metadata": {
    "colab": {
     "base_uri": "https://localhost:8080/"
    },
    "id": "24edbcb6",
    "outputId": "86c8af11-1f34-4b91-cd94-3dd95a2ea9f5"
   },
   "outputs": [
    {
     "data": {
      "text/plain": [
       "0.8703703703703703"
      ]
     },
     "execution_count": 41,
     "metadata": {},
     "output_type": "execute_result"
    }
   ],
   "source": [
    "clf3.score(data_test_x.toarray(),y1_test)"
   ]
  },
  {
   "cell_type": "code",
   "execution_count": 42,
   "id": "1f0ecb0a",
   "metadata": {
    "colab": {
     "base_uri": "https://localhost:8080/"
    },
    "id": "1f0ecb0a",
    "outputId": "471aeeef-d0cf-47b1-f892-d485233756ff"
   },
   "outputs": [
    {
     "name": "stdout",
     "output_type": "stream",
     "text": [
      "87.04%\n"
     ]
    }
   ],
   "source": [
    "pred_dt1 = clf3.predict(data_test_x.toarray())\n",
    "acc_dt1 = metrics.accuracy_score(pred_dt1, y1_test)\n",
    "print(str('{:04.2f}'.format(acc_dt1*100))+'%')"
   ]
  },
  {
   "cell_type": "code",
   "execution_count": 43,
   "id": "badce3af",
   "metadata": {
    "colab": {
     "base_uri": "https://localhost:8080/"
    },
    "id": "badce3af",
    "outputId": "992817ed-df1c-4ae0-92b5-f56b839f5c30",
    "scrolled": true
   },
   "outputs": [
    {
     "name": "stdout",
     "output_type": "stream",
     "text": [
      "              precision    recall  f1-score   support\n",
      "\n",
      "    negative       0.48      0.35      0.41       102\n",
      "    positive       0.91      0.94      0.93       708\n",
      "\n",
      "    accuracy                           0.87       810\n",
      "   macro avg       0.70      0.65      0.67       810\n",
      "weighted avg       0.86      0.87      0.86       810\n",
      "\n"
     ]
    }
   ],
   "source": [
    "## Matrics evaluation for classification decision tree Scen 1\n",
    "print(classification_report(y1_test, pred_dt1, target_names=['negative','positive']))"
   ]
  },
  {
   "cell_type": "markdown",
   "id": "1znbLHl75sgm",
   "metadata": {
    "id": "1znbLHl75sgm"
   },
   "source": [
    "# Implementation Stacking Model"
   ]
  },
  {
   "cell_type": "code",
   "execution_count": 44,
   "id": "8ad6ff14",
   "metadata": {
    "colab": {
     "base_uri": "https://localhost:8080/"
    },
    "id": "8ad6ff14",
    "outputId": "07a088ca-c165-48b3-c3d1-0be108594c3c",
    "scrolled": true
   },
   "outputs": [
    {
     "data": {
      "text/html": [
       "<style>#sk-container-id-4 {color: black;background-color: white;}#sk-container-id-4 pre{padding: 0;}#sk-container-id-4 div.sk-toggleable {background-color: white;}#sk-container-id-4 label.sk-toggleable__label {cursor: pointer;display: block;width: 100%;margin-bottom: 0;padding: 0.3em;box-sizing: border-box;text-align: center;}#sk-container-id-4 label.sk-toggleable__label-arrow:before {content: \"▸\";float: left;margin-right: 0.25em;color: #696969;}#sk-container-id-4 label.sk-toggleable__label-arrow:hover:before {color: black;}#sk-container-id-4 div.sk-estimator:hover label.sk-toggleable__label-arrow:before {color: black;}#sk-container-id-4 div.sk-toggleable__content {max-height: 0;max-width: 0;overflow: hidden;text-align: left;background-color: #f0f8ff;}#sk-container-id-4 div.sk-toggleable__content pre {margin: 0.2em;color: black;border-radius: 0.25em;background-color: #f0f8ff;}#sk-container-id-4 input.sk-toggleable__control:checked~div.sk-toggleable__content {max-height: 200px;max-width: 100%;overflow: auto;}#sk-container-id-4 input.sk-toggleable__control:checked~label.sk-toggleable__label-arrow:before {content: \"▾\";}#sk-container-id-4 div.sk-estimator input.sk-toggleable__control:checked~label.sk-toggleable__label {background-color: #d4ebff;}#sk-container-id-4 div.sk-label input.sk-toggleable__control:checked~label.sk-toggleable__label {background-color: #d4ebff;}#sk-container-id-4 input.sk-hidden--visually {border: 0;clip: rect(1px 1px 1px 1px);clip: rect(1px, 1px, 1px, 1px);height: 1px;margin: -1px;overflow: hidden;padding: 0;position: absolute;width: 1px;}#sk-container-id-4 div.sk-estimator {font-family: monospace;background-color: #f0f8ff;border: 1px dotted black;border-radius: 0.25em;box-sizing: border-box;margin-bottom: 0.5em;}#sk-container-id-4 div.sk-estimator:hover {background-color: #d4ebff;}#sk-container-id-4 div.sk-parallel-item::after {content: \"\";width: 100%;border-bottom: 1px solid gray;flex-grow: 1;}#sk-container-id-4 div.sk-label:hover label.sk-toggleable__label {background-color: #d4ebff;}#sk-container-id-4 div.sk-serial::before {content: \"\";position: absolute;border-left: 1px solid gray;box-sizing: border-box;top: 0;bottom: 0;left: 50%;z-index: 0;}#sk-container-id-4 div.sk-serial {display: flex;flex-direction: column;align-items: center;background-color: white;padding-right: 0.2em;padding-left: 0.2em;position: relative;}#sk-container-id-4 div.sk-item {position: relative;z-index: 1;}#sk-container-id-4 div.sk-parallel {display: flex;align-items: stretch;justify-content: center;background-color: white;position: relative;}#sk-container-id-4 div.sk-item::before, #sk-container-id-4 div.sk-parallel-item::before {content: \"\";position: absolute;border-left: 1px solid gray;box-sizing: border-box;top: 0;bottom: 0;left: 50%;z-index: -1;}#sk-container-id-4 div.sk-parallel-item {display: flex;flex-direction: column;z-index: 1;position: relative;background-color: white;}#sk-container-id-4 div.sk-parallel-item:first-child::after {align-self: flex-end;width: 50%;}#sk-container-id-4 div.sk-parallel-item:last-child::after {align-self: flex-start;width: 50%;}#sk-container-id-4 div.sk-parallel-item:only-child::after {width: 0;}#sk-container-id-4 div.sk-dashed-wrapped {border: 1px dashed gray;margin: 0 0.4em 0.5em 0.4em;box-sizing: border-box;padding-bottom: 0.4em;background-color: white;}#sk-container-id-4 div.sk-label label {font-family: monospace;font-weight: bold;display: inline-block;line-height: 1.2em;}#sk-container-id-4 div.sk-label-container {text-align: center;}#sk-container-id-4 div.sk-container {/* jupyter's `normalize.less` sets `[hidden] { display: none; }` but bootstrap.min.css set `[hidden] { display: none !important; }` so we also need the `!important` here to be able to override the default hidden behavior on the sphinx rendered scikit-learn.org. See: https://github.com/scikit-learn/scikit-learn/issues/21755 */display: inline-block !important;position: relative;}#sk-container-id-4 div.sk-text-repr-fallback {display: none;}</style><div id=\"sk-container-id-4\" class=\"sk-top-container\"><div class=\"sk-text-repr-fallback\"><pre>StackingClassifier(estimators=[(&#x27;bayes&#x27;, MultinomialNB()),\n",
       "                               (&#x27;svm&#x27;, SVC(kernel=&#x27;linear&#x27;, random_state=2)),\n",
       "                               (&#x27;dt&#x27;, DecisionTreeClassifier(random_state=2))],\n",
       "                   final_estimator=LogisticRegression())</pre><b>In a Jupyter environment, please rerun this cell to show the HTML representation or trust the notebook. <br />On GitHub, the HTML representation is unable to render, please try loading this page with nbviewer.org.</b></div><div class=\"sk-container\" hidden><div class=\"sk-item sk-dashed-wrapped\"><div class=\"sk-label-container\"><div class=\"sk-label sk-toggleable\"><input class=\"sk-toggleable__control sk-hidden--visually\" id=\"sk-estimator-id-4\" type=\"checkbox\" ><label for=\"sk-estimator-id-4\" class=\"sk-toggleable__label sk-toggleable__label-arrow\">StackingClassifier</label><div class=\"sk-toggleable__content\"><pre>StackingClassifier(estimators=[(&#x27;bayes&#x27;, MultinomialNB()),\n",
       "                               (&#x27;svm&#x27;, SVC(kernel=&#x27;linear&#x27;, random_state=2)),\n",
       "                               (&#x27;dt&#x27;, DecisionTreeClassifier(random_state=2))],\n",
       "                   final_estimator=LogisticRegression())</pre></div></div></div><div class=\"sk-serial\"><div class=\"sk-item\"><div class=\"sk-parallel\"><div class=\"sk-parallel-item\"><div class=\"sk-item\"><div class=\"sk-label-container\"><div class=\"sk-label sk-toggleable\"><label>bayes</label></div></div><div class=\"sk-serial\"><div class=\"sk-item\"><div class=\"sk-estimator sk-toggleable\"><input class=\"sk-toggleable__control sk-hidden--visually\" id=\"sk-estimator-id-5\" type=\"checkbox\" ><label for=\"sk-estimator-id-5\" class=\"sk-toggleable__label sk-toggleable__label-arrow\">MultinomialNB</label><div class=\"sk-toggleable__content\"><pre>MultinomialNB()</pre></div></div></div></div></div></div><div class=\"sk-parallel-item\"><div class=\"sk-item\"><div class=\"sk-label-container\"><div class=\"sk-label sk-toggleable\"><label>svm</label></div></div><div class=\"sk-serial\"><div class=\"sk-item\"><div class=\"sk-estimator sk-toggleable\"><input class=\"sk-toggleable__control sk-hidden--visually\" id=\"sk-estimator-id-6\" type=\"checkbox\" ><label for=\"sk-estimator-id-6\" class=\"sk-toggleable__label sk-toggleable__label-arrow\">SVC</label><div class=\"sk-toggleable__content\"><pre>SVC(kernel=&#x27;linear&#x27;, random_state=2)</pre></div></div></div></div></div></div><div class=\"sk-parallel-item\"><div class=\"sk-item\"><div class=\"sk-label-container\"><div class=\"sk-label sk-toggleable\"><label>dt</label></div></div><div class=\"sk-serial\"><div class=\"sk-item\"><div class=\"sk-estimator sk-toggleable\"><input class=\"sk-toggleable__control sk-hidden--visually\" id=\"sk-estimator-id-7\" type=\"checkbox\" ><label for=\"sk-estimator-id-7\" class=\"sk-toggleable__label sk-toggleable__label-arrow\">DecisionTreeClassifier</label><div class=\"sk-toggleable__content\"><pre>DecisionTreeClassifier(random_state=2)</pre></div></div></div></div></div></div></div></div><div class=\"sk-item\"><div class=\"sk-parallel\"><div class=\"sk-parallel-item\"><div class=\"sk-item\"><div class=\"sk-label-container\"><div class=\"sk-label sk-toggleable\"><label>final_estimator</label></div></div><div class=\"sk-serial\"><div class=\"sk-item\"><div class=\"sk-estimator sk-toggleable\"><input class=\"sk-toggleable__control sk-hidden--visually\" id=\"sk-estimator-id-8\" type=\"checkbox\" ><label for=\"sk-estimator-id-8\" class=\"sk-toggleable__label sk-toggleable__label-arrow\">LogisticRegression</label><div class=\"sk-toggleable__content\"><pre>LogisticRegression()</pre></div></div></div></div></div></div></div></div></div></div></div></div>"
      ],
      "text/plain": [
       "StackingClassifier(estimators=[('bayes', MultinomialNB()),\n",
       "                               ('svm', SVC(kernel='linear', random_state=2)),\n",
       "                               ('dt', DecisionTreeClassifier(random_state=2))],\n",
       "                   final_estimator=LogisticRegression())"
      ]
     },
     "execution_count": 44,
     "metadata": {},
     "output_type": "execute_result"
    }
   ],
   "source": [
    "clf4.fit(data_train_x.toarray(), y1_train)"
   ]
  },
  {
   "cell_type": "code",
   "execution_count": 45,
   "id": "23a8f36f",
   "metadata": {
    "colab": {
     "base_uri": "https://localhost:8080/"
    },
    "id": "23a8f36f",
    "outputId": "453eca78-c7e0-43b0-efa6-65d5aeecc4f3"
   },
   "outputs": [
    {
     "data": {
      "text/plain": [
       "0.8962962962962963"
      ]
     },
     "execution_count": 45,
     "metadata": {},
     "output_type": "execute_result"
    }
   ],
   "source": [
    "clf4.score(data_test_x.toarray(),y1_test)"
   ]
  },
  {
   "cell_type": "code",
   "execution_count": 46,
   "id": "4fca8174",
   "metadata": {
    "colab": {
     "base_uri": "https://localhost:8080/"
    },
    "id": "4fca8174",
    "outputId": "5d1a37c3-b54f-4820-9d95-1cf433dec9b3"
   },
   "outputs": [
    {
     "name": "stdout",
     "output_type": "stream",
     "text": [
      "89.63%\n"
     ]
    }
   ],
   "source": [
    "pred_stacking1 = clf4.predict(data_test_x.toarray())\n",
    "acc_stacking1 = metrics.accuracy_score(pred_stacking1, y1_test)\n",
    "print(str('{:04.2f}'.format(acc_stacking1*100))+'%')"
   ]
  },
  {
   "cell_type": "code",
   "execution_count": 47,
   "id": "412e91fe",
   "metadata": {
    "colab": {
     "base_uri": "https://localhost:8080/"
    },
    "id": "412e91fe",
    "outputId": "eabfd150-fd48-452d-f750-6cf58f7f8a7d",
    "scrolled": true
   },
   "outputs": [
    {
     "name": "stdout",
     "output_type": "stream",
     "text": [
      "              precision    recall  f1-score   support\n",
      "\n",
      "    negative       0.74      0.27      0.40       102\n",
      "    positive       0.90      0.99      0.94       708\n",
      "\n",
      "    accuracy                           0.90       810\n",
      "   macro avg       0.82      0.63      0.67       810\n",
      "weighted avg       0.88      0.90      0.87       810\n",
      "\n"
     ]
    }
   ],
   "source": [
    "## Matrics evaluation for classification stacking ensemble Scen 1\n",
    "print(classification_report(y1_test, pred_stacking1, target_names=['negative','positive']))"
   ]
  },
  {
   "cell_type": "markdown",
   "id": "09958dc5",
   "metadata": {
    "id": "09958dc5"
   },
   "source": [
    "# Applying Oversampling"
   ]
  },
  {
   "cell_type": "code",
   "execution_count": 48,
   "id": "F9AU_vtbh_3b",
   "metadata": {
    "id": "F9AU_vtbh_3b"
   },
   "outputs": [],
   "source": [
    "X2_train_over,X2_test_over,y2_train_over,y2_test_over = train_test_split(x1,y1,\n",
    "                                                 test_size=0.20,\n",
    "                                                 random_state = 42)"
   ]
  },
  {
   "cell_type": "code",
   "execution_count": 49,
   "id": "dyQKFeZXkav-",
   "metadata": {
    "id": "dyQKFeZXkav-"
   },
   "outputs": [],
   "source": [
    "data_train_over = pd.DataFrame()\n",
    "data_train_over['Review_clean'] = X2_train_over\n",
    "data_train_over['Sentiment'] = y2_train_over\n",
    "\n",
    "data_test_over = pd.DataFrame()\n",
    "data_test_over['Review_clean'] = X2_test_over\n",
    "data_test_over['Sentiment'] = y2_test_over"
   ]
  },
  {
   "cell_type": "code",
   "execution_count": 50,
   "id": "JZ4fiaTtkav_",
   "metadata": {
    "id": "JZ4fiaTtkav_"
   },
   "outputs": [],
   "source": [
    "vectorizer.fit(df['Review_clean'])\n",
    "data_train_x_over = vectorizer.transform(data_train_over['Review_clean']) \n",
    "data_test_x_over = vectorizer.transform(data_test_over['Review_clean'])"
   ]
  },
  {
   "cell_type": "code",
   "execution_count": 51,
   "id": "NoeSkjughbqr",
   "metadata": {
    "id": "NoeSkjughbqr"
   },
   "outputs": [],
   "source": [
    "# RandomOverSampler to handle imbalanced data\n",
    "from imblearn.over_sampling import RandomOverSampler, SMOTE\n",
    "sm = SMOTE(sampling_strategy='not majority') \n",
    "X_over,Y_over = sm.fit_resample(data_train_x_over,y2_train_over)"
   ]
  },
  {
   "cell_type": "code",
   "execution_count": 52,
   "id": "QBjWws6ezN5c",
   "metadata": {
    "colab": {
     "base_uri": "https://localhost:8080/"
    },
    "id": "QBjWws6ezN5c",
    "outputId": "2970f69a-c53b-4473-8df8-ad5a3aa2e716"
   },
   "outputs": [
    {
     "name": "stdout",
     "output_type": "stream",
     "text": [
      "Resampled dataset shape Counter({1: 2843, 0: 2843})\n"
     ]
    }
   ],
   "source": [
    "print('Resampled dataset shape %s' % Counter(Y_over))"
   ]
  },
  {
   "cell_type": "markdown",
   "id": "de17cd4a",
   "metadata": {
    "id": "de17cd4a"
   },
   "source": [
    "## Naive Bayes Oversampling"
   ]
  },
  {
   "cell_type": "code",
   "execution_count": 53,
   "id": "cjDGPreRk5ZR",
   "metadata": {
    "colab": {
     "base_uri": "https://localhost:8080/"
    },
    "id": "cjDGPreRk5ZR",
    "outputId": "71f27a0c-0e8b-4b85-9914-b7b9b6297be3"
   },
   "outputs": [
    {
     "data": {
      "text/html": [
       "<style>#sk-container-id-5 {color: black;background-color: white;}#sk-container-id-5 pre{padding: 0;}#sk-container-id-5 div.sk-toggleable {background-color: white;}#sk-container-id-5 label.sk-toggleable__label {cursor: pointer;display: block;width: 100%;margin-bottom: 0;padding: 0.3em;box-sizing: border-box;text-align: center;}#sk-container-id-5 label.sk-toggleable__label-arrow:before {content: \"▸\";float: left;margin-right: 0.25em;color: #696969;}#sk-container-id-5 label.sk-toggleable__label-arrow:hover:before {color: black;}#sk-container-id-5 div.sk-estimator:hover label.sk-toggleable__label-arrow:before {color: black;}#sk-container-id-5 div.sk-toggleable__content {max-height: 0;max-width: 0;overflow: hidden;text-align: left;background-color: #f0f8ff;}#sk-container-id-5 div.sk-toggleable__content pre {margin: 0.2em;color: black;border-radius: 0.25em;background-color: #f0f8ff;}#sk-container-id-5 input.sk-toggleable__control:checked~div.sk-toggleable__content {max-height: 200px;max-width: 100%;overflow: auto;}#sk-container-id-5 input.sk-toggleable__control:checked~label.sk-toggleable__label-arrow:before {content: \"▾\";}#sk-container-id-5 div.sk-estimator input.sk-toggleable__control:checked~label.sk-toggleable__label {background-color: #d4ebff;}#sk-container-id-5 div.sk-label input.sk-toggleable__control:checked~label.sk-toggleable__label {background-color: #d4ebff;}#sk-container-id-5 input.sk-hidden--visually {border: 0;clip: rect(1px 1px 1px 1px);clip: rect(1px, 1px, 1px, 1px);height: 1px;margin: -1px;overflow: hidden;padding: 0;position: absolute;width: 1px;}#sk-container-id-5 div.sk-estimator {font-family: monospace;background-color: #f0f8ff;border: 1px dotted black;border-radius: 0.25em;box-sizing: border-box;margin-bottom: 0.5em;}#sk-container-id-5 div.sk-estimator:hover {background-color: #d4ebff;}#sk-container-id-5 div.sk-parallel-item::after {content: \"\";width: 100%;border-bottom: 1px solid gray;flex-grow: 1;}#sk-container-id-5 div.sk-label:hover label.sk-toggleable__label {background-color: #d4ebff;}#sk-container-id-5 div.sk-serial::before {content: \"\";position: absolute;border-left: 1px solid gray;box-sizing: border-box;top: 0;bottom: 0;left: 50%;z-index: 0;}#sk-container-id-5 div.sk-serial {display: flex;flex-direction: column;align-items: center;background-color: white;padding-right: 0.2em;padding-left: 0.2em;position: relative;}#sk-container-id-5 div.sk-item {position: relative;z-index: 1;}#sk-container-id-5 div.sk-parallel {display: flex;align-items: stretch;justify-content: center;background-color: white;position: relative;}#sk-container-id-5 div.sk-item::before, #sk-container-id-5 div.sk-parallel-item::before {content: \"\";position: absolute;border-left: 1px solid gray;box-sizing: border-box;top: 0;bottom: 0;left: 50%;z-index: -1;}#sk-container-id-5 div.sk-parallel-item {display: flex;flex-direction: column;z-index: 1;position: relative;background-color: white;}#sk-container-id-5 div.sk-parallel-item:first-child::after {align-self: flex-end;width: 50%;}#sk-container-id-5 div.sk-parallel-item:last-child::after {align-self: flex-start;width: 50%;}#sk-container-id-5 div.sk-parallel-item:only-child::after {width: 0;}#sk-container-id-5 div.sk-dashed-wrapped {border: 1px dashed gray;margin: 0 0.4em 0.5em 0.4em;box-sizing: border-box;padding-bottom: 0.4em;background-color: white;}#sk-container-id-5 div.sk-label label {font-family: monospace;font-weight: bold;display: inline-block;line-height: 1.2em;}#sk-container-id-5 div.sk-label-container {text-align: center;}#sk-container-id-5 div.sk-container {/* jupyter's `normalize.less` sets `[hidden] { display: none; }` but bootstrap.min.css set `[hidden] { display: none !important; }` so we also need the `!important` here to be able to override the default hidden behavior on the sphinx rendered scikit-learn.org. See: https://github.com/scikit-learn/scikit-learn/issues/21755 */display: inline-block !important;position: relative;}#sk-container-id-5 div.sk-text-repr-fallback {display: none;}</style><div id=\"sk-container-id-5\" class=\"sk-top-container\"><div class=\"sk-text-repr-fallback\"><pre>MultinomialNB()</pre><b>In a Jupyter environment, please rerun this cell to show the HTML representation or trust the notebook. <br />On GitHub, the HTML representation is unable to render, please try loading this page with nbviewer.org.</b></div><div class=\"sk-container\" hidden><div class=\"sk-item\"><div class=\"sk-estimator sk-toggleable\"><input class=\"sk-toggleable__control sk-hidden--visually\" id=\"sk-estimator-id-9\" type=\"checkbox\" checked><label for=\"sk-estimator-id-9\" class=\"sk-toggleable__label sk-toggleable__label-arrow\">MultinomialNB</label><div class=\"sk-toggleable__content\"><pre>MultinomialNB()</pre></div></div></div></div></div>"
      ],
      "text/plain": [
       "MultinomialNB()"
      ]
     },
     "execution_count": 53,
     "metadata": {},
     "output_type": "execute_result"
    }
   ],
   "source": [
    "clf1.fit(X_over.toarray(), Y_over)"
   ]
  },
  {
   "cell_type": "code",
   "execution_count": 54,
   "id": "5w_4sAoeoDYL",
   "metadata": {
    "colab": {
     "base_uri": "https://localhost:8080/"
    },
    "id": "5w_4sAoeoDYL",
    "outputId": "2e18b2bb-b226-4cc4-c313-e2fc7cc2f56d"
   },
   "outputs": [
    {
     "data": {
      "text/plain": [
       "0.7851851851851852"
      ]
     },
     "execution_count": 54,
     "metadata": {},
     "output_type": "execute_result"
    }
   ],
   "source": [
    "clf1.score(data_test_x_over.toarray(),y2_test_over)"
   ]
  },
  {
   "cell_type": "code",
   "execution_count": 55,
   "id": "zxJHeVlYpkXt",
   "metadata": {
    "colab": {
     "base_uri": "https://localhost:8080/"
    },
    "id": "zxJHeVlYpkXt",
    "outputId": "222d5b55-797a-4930-903f-128e60e65b48"
   },
   "outputs": [
    {
     "name": "stdout",
     "output_type": "stream",
     "text": [
      "78.52%\n"
     ]
    }
   ],
   "source": [
    "pred_nb1_over = clf1.predict(data_test_x_over.toarray())\n",
    "acc_nb1_over = metrics.accuracy_score(pred_nb1_over, y2_test_over)\n",
    "print(str('{:04.2f}'.format(acc_nb1_over*100))+'%')"
   ]
  },
  {
   "cell_type": "code",
   "execution_count": 56,
   "id": "T7bFmO9Tl0KO",
   "metadata": {
    "colab": {
     "base_uri": "https://localhost:8080/"
    },
    "id": "T7bFmO9Tl0KO",
    "outputId": "06c76d54-48f2-4424-f311-c6af14d2a1a9"
   },
   "outputs": [
    {
     "name": "stdout",
     "output_type": "stream",
     "text": [
      "              precision    recall  f1-score   support\n",
      "\n",
      "    negative       0.33      0.72      0.46       102\n",
      "    positive       0.95      0.80      0.87       708\n",
      "\n",
      "    accuracy                           0.79       810\n",
      "   macro avg       0.64      0.76      0.66       810\n",
      "weighted avg       0.87      0.79      0.81       810\n",
      "\n"
     ]
    }
   ],
   "source": [
    "## Matrics evaluation for classification Naive Bayes Scen 1\n",
    "print(classification_report(y2_test_over, pred_nb1_over, target_names=['negative','positive']))"
   ]
  },
  {
   "cell_type": "markdown",
   "id": "8ac90fa3",
   "metadata": {
    "id": "8ac90fa3"
   },
   "source": [
    "## Support Vector Machine Oversampling"
   ]
  },
  {
   "cell_type": "code",
   "execution_count": 57,
   "id": "499119a1",
   "metadata": {
    "colab": {
     "base_uri": "https://localhost:8080/"
    },
    "id": "499119a1",
    "outputId": "cf25f14a-29e0-428d-e0fd-58225d6fc87c"
   },
   "outputs": [
    {
     "data": {
      "text/html": [
       "<style>#sk-container-id-6 {color: black;background-color: white;}#sk-container-id-6 pre{padding: 0;}#sk-container-id-6 div.sk-toggleable {background-color: white;}#sk-container-id-6 label.sk-toggleable__label {cursor: pointer;display: block;width: 100%;margin-bottom: 0;padding: 0.3em;box-sizing: border-box;text-align: center;}#sk-container-id-6 label.sk-toggleable__label-arrow:before {content: \"▸\";float: left;margin-right: 0.25em;color: #696969;}#sk-container-id-6 label.sk-toggleable__label-arrow:hover:before {color: black;}#sk-container-id-6 div.sk-estimator:hover label.sk-toggleable__label-arrow:before {color: black;}#sk-container-id-6 div.sk-toggleable__content {max-height: 0;max-width: 0;overflow: hidden;text-align: left;background-color: #f0f8ff;}#sk-container-id-6 div.sk-toggleable__content pre {margin: 0.2em;color: black;border-radius: 0.25em;background-color: #f0f8ff;}#sk-container-id-6 input.sk-toggleable__control:checked~div.sk-toggleable__content {max-height: 200px;max-width: 100%;overflow: auto;}#sk-container-id-6 input.sk-toggleable__control:checked~label.sk-toggleable__label-arrow:before {content: \"▾\";}#sk-container-id-6 div.sk-estimator input.sk-toggleable__control:checked~label.sk-toggleable__label {background-color: #d4ebff;}#sk-container-id-6 div.sk-label input.sk-toggleable__control:checked~label.sk-toggleable__label {background-color: #d4ebff;}#sk-container-id-6 input.sk-hidden--visually {border: 0;clip: rect(1px 1px 1px 1px);clip: rect(1px, 1px, 1px, 1px);height: 1px;margin: -1px;overflow: hidden;padding: 0;position: absolute;width: 1px;}#sk-container-id-6 div.sk-estimator {font-family: monospace;background-color: #f0f8ff;border: 1px dotted black;border-radius: 0.25em;box-sizing: border-box;margin-bottom: 0.5em;}#sk-container-id-6 div.sk-estimator:hover {background-color: #d4ebff;}#sk-container-id-6 div.sk-parallel-item::after {content: \"\";width: 100%;border-bottom: 1px solid gray;flex-grow: 1;}#sk-container-id-6 div.sk-label:hover label.sk-toggleable__label {background-color: #d4ebff;}#sk-container-id-6 div.sk-serial::before {content: \"\";position: absolute;border-left: 1px solid gray;box-sizing: border-box;top: 0;bottom: 0;left: 50%;z-index: 0;}#sk-container-id-6 div.sk-serial {display: flex;flex-direction: column;align-items: center;background-color: white;padding-right: 0.2em;padding-left: 0.2em;position: relative;}#sk-container-id-6 div.sk-item {position: relative;z-index: 1;}#sk-container-id-6 div.sk-parallel {display: flex;align-items: stretch;justify-content: center;background-color: white;position: relative;}#sk-container-id-6 div.sk-item::before, #sk-container-id-6 div.sk-parallel-item::before {content: \"\";position: absolute;border-left: 1px solid gray;box-sizing: border-box;top: 0;bottom: 0;left: 50%;z-index: -1;}#sk-container-id-6 div.sk-parallel-item {display: flex;flex-direction: column;z-index: 1;position: relative;background-color: white;}#sk-container-id-6 div.sk-parallel-item:first-child::after {align-self: flex-end;width: 50%;}#sk-container-id-6 div.sk-parallel-item:last-child::after {align-self: flex-start;width: 50%;}#sk-container-id-6 div.sk-parallel-item:only-child::after {width: 0;}#sk-container-id-6 div.sk-dashed-wrapped {border: 1px dashed gray;margin: 0 0.4em 0.5em 0.4em;box-sizing: border-box;padding-bottom: 0.4em;background-color: white;}#sk-container-id-6 div.sk-label label {font-family: monospace;font-weight: bold;display: inline-block;line-height: 1.2em;}#sk-container-id-6 div.sk-label-container {text-align: center;}#sk-container-id-6 div.sk-container {/* jupyter's `normalize.less` sets `[hidden] { display: none; }` but bootstrap.min.css set `[hidden] { display: none !important; }` so we also need the `!important` here to be able to override the default hidden behavior on the sphinx rendered scikit-learn.org. See: https://github.com/scikit-learn/scikit-learn/issues/21755 */display: inline-block !important;position: relative;}#sk-container-id-6 div.sk-text-repr-fallback {display: none;}</style><div id=\"sk-container-id-6\" class=\"sk-top-container\"><div class=\"sk-text-repr-fallback\"><pre>SVC(kernel=&#x27;linear&#x27;, random_state=2)</pre><b>In a Jupyter environment, please rerun this cell to show the HTML representation or trust the notebook. <br />On GitHub, the HTML representation is unable to render, please try loading this page with nbviewer.org.</b></div><div class=\"sk-container\" hidden><div class=\"sk-item\"><div class=\"sk-estimator sk-toggleable\"><input class=\"sk-toggleable__control sk-hidden--visually\" id=\"sk-estimator-id-10\" type=\"checkbox\" checked><label for=\"sk-estimator-id-10\" class=\"sk-toggleable__label sk-toggleable__label-arrow\">SVC</label><div class=\"sk-toggleable__content\"><pre>SVC(kernel=&#x27;linear&#x27;, random_state=2)</pre></div></div></div></div></div>"
      ],
      "text/plain": [
       "SVC(kernel='linear', random_state=2)"
      ]
     },
     "execution_count": 57,
     "metadata": {},
     "output_type": "execute_result"
    }
   ],
   "source": [
    "clf2.fit(X_over.toarray(), Y_over)"
   ]
  },
  {
   "cell_type": "code",
   "execution_count": 58,
   "id": "dabfd090",
   "metadata": {
    "colab": {
     "base_uri": "https://localhost:8080/"
    },
    "id": "dabfd090",
    "outputId": "5f4cee4c-5709-400e-9eec-4db1adfbfc2c"
   },
   "outputs": [
    {
     "data": {
      "text/plain": [
       "0.7962962962962963"
      ]
     },
     "execution_count": 58,
     "metadata": {},
     "output_type": "execute_result"
    }
   ],
   "source": [
    "clf2.score(data_test_x_over.toarray(),y2_test_over)"
   ]
  },
  {
   "cell_type": "code",
   "execution_count": 59,
   "id": "537979f3",
   "metadata": {
    "colab": {
     "base_uri": "https://localhost:8080/"
    },
    "id": "537979f3",
    "outputId": "0d45cbb4-ef9f-4efe-8879-86cff5e703de"
   },
   "outputs": [
    {
     "name": "stdout",
     "output_type": "stream",
     "text": [
      "79.63%\n"
     ]
    }
   ],
   "source": [
    "pred_svm1_over = clf2.predict(data_test_x_over.toarray())\n",
    "acc_svm1_over = metrics.accuracy_score(pred_svm1_over, y2_test_over)\n",
    "print(str('{:04.2f}'.format(acc_svm1_over*100))+'%')"
   ]
  },
  {
   "cell_type": "code",
   "execution_count": 60,
   "id": "a87416a7",
   "metadata": {
    "colab": {
     "base_uri": "https://localhost:8080/"
    },
    "id": "a87416a7",
    "outputId": "fd9a3624-149a-4b0e-f411-ef509a640c58"
   },
   "outputs": [
    {
     "name": "stdout",
     "output_type": "stream",
     "text": [
      "              precision    recall  f1-score   support\n",
      "\n",
      "    negative       0.35      0.75      0.48       102\n",
      "    positive       0.96      0.80      0.87       708\n",
      "\n",
      "    accuracy                           0.80       810\n",
      "   macro avg       0.66      0.78      0.68       810\n",
      "weighted avg       0.88      0.80      0.82       810\n",
      "\n"
     ]
    }
   ],
   "source": [
    "## Matrics evaluation for classification Support Vector Machines Scen 1\n",
    "print(classification_report(y2_test_over, pred_svm1_over, target_names=['negative','positive']))"
   ]
  },
  {
   "cell_type": "markdown",
   "id": "6eae80f5",
   "metadata": {
    "id": "6eae80f5"
   },
   "source": [
    "## Decision Tree Oversampling"
   ]
  },
  {
   "cell_type": "code",
   "execution_count": 61,
   "id": "f4654b97",
   "metadata": {
    "colab": {
     "base_uri": "https://localhost:8080/"
    },
    "id": "f4654b97",
    "outputId": "62750c6f-2f1c-4dab-d191-d65f4e6b73d1"
   },
   "outputs": [
    {
     "data": {
      "text/html": [
       "<style>#sk-container-id-7 {color: black;background-color: white;}#sk-container-id-7 pre{padding: 0;}#sk-container-id-7 div.sk-toggleable {background-color: white;}#sk-container-id-7 label.sk-toggleable__label {cursor: pointer;display: block;width: 100%;margin-bottom: 0;padding: 0.3em;box-sizing: border-box;text-align: center;}#sk-container-id-7 label.sk-toggleable__label-arrow:before {content: \"▸\";float: left;margin-right: 0.25em;color: #696969;}#sk-container-id-7 label.sk-toggleable__label-arrow:hover:before {color: black;}#sk-container-id-7 div.sk-estimator:hover label.sk-toggleable__label-arrow:before {color: black;}#sk-container-id-7 div.sk-toggleable__content {max-height: 0;max-width: 0;overflow: hidden;text-align: left;background-color: #f0f8ff;}#sk-container-id-7 div.sk-toggleable__content pre {margin: 0.2em;color: black;border-radius: 0.25em;background-color: #f0f8ff;}#sk-container-id-7 input.sk-toggleable__control:checked~div.sk-toggleable__content {max-height: 200px;max-width: 100%;overflow: auto;}#sk-container-id-7 input.sk-toggleable__control:checked~label.sk-toggleable__label-arrow:before {content: \"▾\";}#sk-container-id-7 div.sk-estimator input.sk-toggleable__control:checked~label.sk-toggleable__label {background-color: #d4ebff;}#sk-container-id-7 div.sk-label input.sk-toggleable__control:checked~label.sk-toggleable__label {background-color: #d4ebff;}#sk-container-id-7 input.sk-hidden--visually {border: 0;clip: rect(1px 1px 1px 1px);clip: rect(1px, 1px, 1px, 1px);height: 1px;margin: -1px;overflow: hidden;padding: 0;position: absolute;width: 1px;}#sk-container-id-7 div.sk-estimator {font-family: monospace;background-color: #f0f8ff;border: 1px dotted black;border-radius: 0.25em;box-sizing: border-box;margin-bottom: 0.5em;}#sk-container-id-7 div.sk-estimator:hover {background-color: #d4ebff;}#sk-container-id-7 div.sk-parallel-item::after {content: \"\";width: 100%;border-bottom: 1px solid gray;flex-grow: 1;}#sk-container-id-7 div.sk-label:hover label.sk-toggleable__label {background-color: #d4ebff;}#sk-container-id-7 div.sk-serial::before {content: \"\";position: absolute;border-left: 1px solid gray;box-sizing: border-box;top: 0;bottom: 0;left: 50%;z-index: 0;}#sk-container-id-7 div.sk-serial {display: flex;flex-direction: column;align-items: center;background-color: white;padding-right: 0.2em;padding-left: 0.2em;position: relative;}#sk-container-id-7 div.sk-item {position: relative;z-index: 1;}#sk-container-id-7 div.sk-parallel {display: flex;align-items: stretch;justify-content: center;background-color: white;position: relative;}#sk-container-id-7 div.sk-item::before, #sk-container-id-7 div.sk-parallel-item::before {content: \"\";position: absolute;border-left: 1px solid gray;box-sizing: border-box;top: 0;bottom: 0;left: 50%;z-index: -1;}#sk-container-id-7 div.sk-parallel-item {display: flex;flex-direction: column;z-index: 1;position: relative;background-color: white;}#sk-container-id-7 div.sk-parallel-item:first-child::after {align-self: flex-end;width: 50%;}#sk-container-id-7 div.sk-parallel-item:last-child::after {align-self: flex-start;width: 50%;}#sk-container-id-7 div.sk-parallel-item:only-child::after {width: 0;}#sk-container-id-7 div.sk-dashed-wrapped {border: 1px dashed gray;margin: 0 0.4em 0.5em 0.4em;box-sizing: border-box;padding-bottom: 0.4em;background-color: white;}#sk-container-id-7 div.sk-label label {font-family: monospace;font-weight: bold;display: inline-block;line-height: 1.2em;}#sk-container-id-7 div.sk-label-container {text-align: center;}#sk-container-id-7 div.sk-container {/* jupyter's `normalize.less` sets `[hidden] { display: none; }` but bootstrap.min.css set `[hidden] { display: none !important; }` so we also need the `!important` here to be able to override the default hidden behavior on the sphinx rendered scikit-learn.org. See: https://github.com/scikit-learn/scikit-learn/issues/21755 */display: inline-block !important;position: relative;}#sk-container-id-7 div.sk-text-repr-fallback {display: none;}</style><div id=\"sk-container-id-7\" class=\"sk-top-container\"><div class=\"sk-text-repr-fallback\"><pre>DecisionTreeClassifier(random_state=2)</pre><b>In a Jupyter environment, please rerun this cell to show the HTML representation or trust the notebook. <br />On GitHub, the HTML representation is unable to render, please try loading this page with nbviewer.org.</b></div><div class=\"sk-container\" hidden><div class=\"sk-item\"><div class=\"sk-estimator sk-toggleable\"><input class=\"sk-toggleable__control sk-hidden--visually\" id=\"sk-estimator-id-11\" type=\"checkbox\" checked><label for=\"sk-estimator-id-11\" class=\"sk-toggleable__label sk-toggleable__label-arrow\">DecisionTreeClassifier</label><div class=\"sk-toggleable__content\"><pre>DecisionTreeClassifier(random_state=2)</pre></div></div></div></div></div>"
      ],
      "text/plain": [
       "DecisionTreeClassifier(random_state=2)"
      ]
     },
     "execution_count": 61,
     "metadata": {},
     "output_type": "execute_result"
    }
   ],
   "source": [
    "clf3.fit(X_over.toarray(), Y_over)"
   ]
  },
  {
   "cell_type": "code",
   "execution_count": 62,
   "id": "403ae16b",
   "metadata": {
    "colab": {
     "base_uri": "https://localhost:8080/"
    },
    "id": "403ae16b",
    "outputId": "efb6b001-6372-4142-adbd-7fa9f4fe181a"
   },
   "outputs": [
    {
     "data": {
      "text/plain": [
       "0.8160493827160494"
      ]
     },
     "execution_count": 62,
     "metadata": {},
     "output_type": "execute_result"
    }
   ],
   "source": [
    "clf3.score(data_test_x_over.toarray(),y2_test_over)"
   ]
  },
  {
   "cell_type": "code",
   "execution_count": 63,
   "id": "235d21e0",
   "metadata": {
    "colab": {
     "base_uri": "https://localhost:8080/"
    },
    "id": "235d21e0",
    "outputId": "9f30ebfe-b89a-455c-a26f-bc723ea6432a"
   },
   "outputs": [
    {
     "name": "stdout",
     "output_type": "stream",
     "text": [
      "81.60%\n"
     ]
    }
   ],
   "source": [
    "pred_dt1_over = clf3.predict(data_test_x_over.toarray())\n",
    "acc_dt1_over = metrics.accuracy_score(pred_dt1_over, y2_test_over)\n",
    "print(str('{:04.2f}'.format(acc_dt1_over*100))+'%')"
   ]
  },
  {
   "cell_type": "code",
   "execution_count": 64,
   "id": "2fb1e2b5",
   "metadata": {
    "colab": {
     "base_uri": "https://localhost:8080/"
    },
    "id": "2fb1e2b5",
    "outputId": "d6b6e971-f8b4-49c3-c119-5034d8676b3e",
    "scrolled": true
   },
   "outputs": [
    {
     "name": "stdout",
     "output_type": "stream",
     "text": [
      "              precision    recall  f1-score   support\n",
      "\n",
      "    negative       0.36      0.57      0.44       102\n",
      "    positive       0.93      0.85      0.89       708\n",
      "\n",
      "    accuracy                           0.82       810\n",
      "   macro avg       0.64      0.71      0.66       810\n",
      "weighted avg       0.86      0.82      0.83       810\n",
      "\n"
     ]
    }
   ],
   "source": [
    "## Matrics evaluation for classification decision tree Scen 1\n",
    "print(classification_report(y2_test_over, pred_dt1_over, target_names=['negative','positive']))"
   ]
  },
  {
   "cell_type": "markdown",
   "id": "944fcee6",
   "metadata": {
    "id": "944fcee6"
   },
   "source": [
    "## Stacking Oversampling"
   ]
  },
  {
   "cell_type": "code",
   "execution_count": 65,
   "id": "f2d94651",
   "metadata": {
    "colab": {
     "base_uri": "https://localhost:8080/"
    },
    "id": "f2d94651",
    "outputId": "2e221795-4bf7-4670-f480-df2a7b671899",
    "scrolled": true
   },
   "outputs": [
    {
     "data": {
      "text/html": [
       "<style>#sk-container-id-8 {color: black;background-color: white;}#sk-container-id-8 pre{padding: 0;}#sk-container-id-8 div.sk-toggleable {background-color: white;}#sk-container-id-8 label.sk-toggleable__label {cursor: pointer;display: block;width: 100%;margin-bottom: 0;padding: 0.3em;box-sizing: border-box;text-align: center;}#sk-container-id-8 label.sk-toggleable__label-arrow:before {content: \"▸\";float: left;margin-right: 0.25em;color: #696969;}#sk-container-id-8 label.sk-toggleable__label-arrow:hover:before {color: black;}#sk-container-id-8 div.sk-estimator:hover label.sk-toggleable__label-arrow:before {color: black;}#sk-container-id-8 div.sk-toggleable__content {max-height: 0;max-width: 0;overflow: hidden;text-align: left;background-color: #f0f8ff;}#sk-container-id-8 div.sk-toggleable__content pre {margin: 0.2em;color: black;border-radius: 0.25em;background-color: #f0f8ff;}#sk-container-id-8 input.sk-toggleable__control:checked~div.sk-toggleable__content {max-height: 200px;max-width: 100%;overflow: auto;}#sk-container-id-8 input.sk-toggleable__control:checked~label.sk-toggleable__label-arrow:before {content: \"▾\";}#sk-container-id-8 div.sk-estimator input.sk-toggleable__control:checked~label.sk-toggleable__label {background-color: #d4ebff;}#sk-container-id-8 div.sk-label input.sk-toggleable__control:checked~label.sk-toggleable__label {background-color: #d4ebff;}#sk-container-id-8 input.sk-hidden--visually {border: 0;clip: rect(1px 1px 1px 1px);clip: rect(1px, 1px, 1px, 1px);height: 1px;margin: -1px;overflow: hidden;padding: 0;position: absolute;width: 1px;}#sk-container-id-8 div.sk-estimator {font-family: monospace;background-color: #f0f8ff;border: 1px dotted black;border-radius: 0.25em;box-sizing: border-box;margin-bottom: 0.5em;}#sk-container-id-8 div.sk-estimator:hover {background-color: #d4ebff;}#sk-container-id-8 div.sk-parallel-item::after {content: \"\";width: 100%;border-bottom: 1px solid gray;flex-grow: 1;}#sk-container-id-8 div.sk-label:hover label.sk-toggleable__label {background-color: #d4ebff;}#sk-container-id-8 div.sk-serial::before {content: \"\";position: absolute;border-left: 1px solid gray;box-sizing: border-box;top: 0;bottom: 0;left: 50%;z-index: 0;}#sk-container-id-8 div.sk-serial {display: flex;flex-direction: column;align-items: center;background-color: white;padding-right: 0.2em;padding-left: 0.2em;position: relative;}#sk-container-id-8 div.sk-item {position: relative;z-index: 1;}#sk-container-id-8 div.sk-parallel {display: flex;align-items: stretch;justify-content: center;background-color: white;position: relative;}#sk-container-id-8 div.sk-item::before, #sk-container-id-8 div.sk-parallel-item::before {content: \"\";position: absolute;border-left: 1px solid gray;box-sizing: border-box;top: 0;bottom: 0;left: 50%;z-index: -1;}#sk-container-id-8 div.sk-parallel-item {display: flex;flex-direction: column;z-index: 1;position: relative;background-color: white;}#sk-container-id-8 div.sk-parallel-item:first-child::after {align-self: flex-end;width: 50%;}#sk-container-id-8 div.sk-parallel-item:last-child::after {align-self: flex-start;width: 50%;}#sk-container-id-8 div.sk-parallel-item:only-child::after {width: 0;}#sk-container-id-8 div.sk-dashed-wrapped {border: 1px dashed gray;margin: 0 0.4em 0.5em 0.4em;box-sizing: border-box;padding-bottom: 0.4em;background-color: white;}#sk-container-id-8 div.sk-label label {font-family: monospace;font-weight: bold;display: inline-block;line-height: 1.2em;}#sk-container-id-8 div.sk-label-container {text-align: center;}#sk-container-id-8 div.sk-container {/* jupyter's `normalize.less` sets `[hidden] { display: none; }` but bootstrap.min.css set `[hidden] { display: none !important; }` so we also need the `!important` here to be able to override the default hidden behavior on the sphinx rendered scikit-learn.org. See: https://github.com/scikit-learn/scikit-learn/issues/21755 */display: inline-block !important;position: relative;}#sk-container-id-8 div.sk-text-repr-fallback {display: none;}</style><div id=\"sk-container-id-8\" class=\"sk-top-container\"><div class=\"sk-text-repr-fallback\"><pre>StackingClassifier(estimators=[(&#x27;bayes&#x27;, MultinomialNB()),\n",
       "                               (&#x27;svm&#x27;, SVC(kernel=&#x27;linear&#x27;, random_state=2)),\n",
       "                               (&#x27;dt&#x27;, DecisionTreeClassifier(random_state=2))],\n",
       "                   final_estimator=LogisticRegression())</pre><b>In a Jupyter environment, please rerun this cell to show the HTML representation or trust the notebook. <br />On GitHub, the HTML representation is unable to render, please try loading this page with nbviewer.org.</b></div><div class=\"sk-container\" hidden><div class=\"sk-item sk-dashed-wrapped\"><div class=\"sk-label-container\"><div class=\"sk-label sk-toggleable\"><input class=\"sk-toggleable__control sk-hidden--visually\" id=\"sk-estimator-id-12\" type=\"checkbox\" ><label for=\"sk-estimator-id-12\" class=\"sk-toggleable__label sk-toggleable__label-arrow\">StackingClassifier</label><div class=\"sk-toggleable__content\"><pre>StackingClassifier(estimators=[(&#x27;bayes&#x27;, MultinomialNB()),\n",
       "                               (&#x27;svm&#x27;, SVC(kernel=&#x27;linear&#x27;, random_state=2)),\n",
       "                               (&#x27;dt&#x27;, DecisionTreeClassifier(random_state=2))],\n",
       "                   final_estimator=LogisticRegression())</pre></div></div></div><div class=\"sk-serial\"><div class=\"sk-item\"><div class=\"sk-parallel\"><div class=\"sk-parallel-item\"><div class=\"sk-item\"><div class=\"sk-label-container\"><div class=\"sk-label sk-toggleable\"><label>bayes</label></div></div><div class=\"sk-serial\"><div class=\"sk-item\"><div class=\"sk-estimator sk-toggleable\"><input class=\"sk-toggleable__control sk-hidden--visually\" id=\"sk-estimator-id-13\" type=\"checkbox\" ><label for=\"sk-estimator-id-13\" class=\"sk-toggleable__label sk-toggleable__label-arrow\">MultinomialNB</label><div class=\"sk-toggleable__content\"><pre>MultinomialNB()</pre></div></div></div></div></div></div><div class=\"sk-parallel-item\"><div class=\"sk-item\"><div class=\"sk-label-container\"><div class=\"sk-label sk-toggleable\"><label>svm</label></div></div><div class=\"sk-serial\"><div class=\"sk-item\"><div class=\"sk-estimator sk-toggleable\"><input class=\"sk-toggleable__control sk-hidden--visually\" id=\"sk-estimator-id-14\" type=\"checkbox\" ><label for=\"sk-estimator-id-14\" class=\"sk-toggleable__label sk-toggleable__label-arrow\">SVC</label><div class=\"sk-toggleable__content\"><pre>SVC(kernel=&#x27;linear&#x27;, random_state=2)</pre></div></div></div></div></div></div><div class=\"sk-parallel-item\"><div class=\"sk-item\"><div class=\"sk-label-container\"><div class=\"sk-label sk-toggleable\"><label>dt</label></div></div><div class=\"sk-serial\"><div class=\"sk-item\"><div class=\"sk-estimator sk-toggleable\"><input class=\"sk-toggleable__control sk-hidden--visually\" id=\"sk-estimator-id-15\" type=\"checkbox\" ><label for=\"sk-estimator-id-15\" class=\"sk-toggleable__label sk-toggleable__label-arrow\">DecisionTreeClassifier</label><div class=\"sk-toggleable__content\"><pre>DecisionTreeClassifier(random_state=2)</pre></div></div></div></div></div></div></div></div><div class=\"sk-item\"><div class=\"sk-parallel\"><div class=\"sk-parallel-item\"><div class=\"sk-item\"><div class=\"sk-label-container\"><div class=\"sk-label sk-toggleable\"><label>final_estimator</label></div></div><div class=\"sk-serial\"><div class=\"sk-item\"><div class=\"sk-estimator sk-toggleable\"><input class=\"sk-toggleable__control sk-hidden--visually\" id=\"sk-estimator-id-16\" type=\"checkbox\" ><label for=\"sk-estimator-id-16\" class=\"sk-toggleable__label sk-toggleable__label-arrow\">LogisticRegression</label><div class=\"sk-toggleable__content\"><pre>LogisticRegression()</pre></div></div></div></div></div></div></div></div></div></div></div></div>"
      ],
      "text/plain": [
       "StackingClassifier(estimators=[('bayes', MultinomialNB()),\n",
       "                               ('svm', SVC(kernel='linear', random_state=2)),\n",
       "                               ('dt', DecisionTreeClassifier(random_state=2))],\n",
       "                   final_estimator=LogisticRegression())"
      ]
     },
     "execution_count": 65,
     "metadata": {},
     "output_type": "execute_result"
    }
   ],
   "source": [
    "clf4.fit(X_over.toarray(), Y_over)"
   ]
  },
  {
   "cell_type": "code",
   "execution_count": 66,
   "id": "7e83d479",
   "metadata": {
    "colab": {
     "base_uri": "https://localhost:8080/"
    },
    "id": "7e83d479",
    "outputId": "3a04fe26-6f9c-4774-b245-8ff1e67c8ccb"
   },
   "outputs": [
    {
     "data": {
      "text/plain": [
       "0.8358024691358025"
      ]
     },
     "execution_count": 66,
     "metadata": {},
     "output_type": "execute_result"
    }
   ],
   "source": [
    "clf4.score(data_test_x_over.toarray(),y2_test_over)"
   ]
  },
  {
   "cell_type": "code",
   "execution_count": 67,
   "id": "c3de11cd",
   "metadata": {
    "colab": {
     "base_uri": "https://localhost:8080/"
    },
    "id": "c3de11cd",
    "outputId": "e6324a34-fb2b-4e3f-84d2-1dc2cb29ce3c"
   },
   "outputs": [
    {
     "name": "stdout",
     "output_type": "stream",
     "text": [
      "83.58%\n"
     ]
    }
   ],
   "source": [
    "pred_stacking1_over = clf4.predict(data_test_x_over.toarray())\n",
    "acc_stacking1_over = metrics.accuracy_score(pred_stacking1_over, y2_test_over)\n",
    "print(str('{:04.2f}'.format(acc_stacking1_over*100))+'%')"
   ]
  },
  {
   "cell_type": "code",
   "execution_count": 68,
   "id": "4b012e82",
   "metadata": {
    "colab": {
     "base_uri": "https://localhost:8080/"
    },
    "id": "4b012e82",
    "outputId": "3ca03c1d-1c28-4b9a-83ab-547613030e00"
   },
   "outputs": [
    {
     "name": "stdout",
     "output_type": "stream",
     "text": [
      "              precision    recall  f1-score   support\n",
      "\n",
      "    negative       0.40      0.64      0.49       102\n",
      "    positive       0.94      0.86      0.90       708\n",
      "\n",
      "    accuracy                           0.84       810\n",
      "   macro avg       0.67      0.75      0.70       810\n",
      "weighted avg       0.88      0.84      0.85       810\n",
      "\n"
     ]
    }
   ],
   "source": [
    "## Matrics evaluation for classification stacking ensemble Scen 1\n",
    "print(classification_report(y2_test_over, pred_stacking1_over, target_names=['negative','positive']))"
   ]
  },
  {
   "cell_type": "markdown",
   "id": "3cb2c3d6",
   "metadata": {
    "id": "3cb2c3d6"
   },
   "source": [
    "# Applying Undersampling"
   ]
  },
  {
   "cell_type": "code",
   "execution_count": 69,
   "id": "7XWGAo0U4UgP",
   "metadata": {
    "id": "7XWGAo0U4UgP"
   },
   "outputs": [],
   "source": [
    "X3_train_under,X3_test_under,y3_train_under,y3_test_under = train_test_split(x1,y1,\n",
    "                                                 test_size=0.20,\n",
    "                                                 random_state = 42)"
   ]
  },
  {
   "cell_type": "code",
   "execution_count": 70,
   "id": "AoExuW9w4UgP",
   "metadata": {
    "id": "AoExuW9w4UgP"
   },
   "outputs": [],
   "source": [
    "data_train_under = pd.DataFrame()\n",
    "data_train_under['Review_clean'] = X3_train_under\n",
    "data_train_under['Sentiment'] = y3_train_under\n",
    "\n",
    "data_test_under = pd.DataFrame()\n",
    "data_test_under['Review_clean'] = X3_test_under\n",
    "data_test_under['Sentiment'] = y3_test_under"
   ]
  },
  {
   "cell_type": "code",
   "execution_count": 71,
   "id": "14rbRy6p4UgP",
   "metadata": {
    "id": "14rbRy6p4UgP"
   },
   "outputs": [],
   "source": [
    "vectorizer.fit(df['Review_clean'])\n",
    "data_train_x_under = vectorizer.transform(data_train_under['Review_clean']) \n",
    "data_test_x_under = vectorizer.transform(data_test_under['Review_clean'])"
   ]
  },
  {
   "cell_type": "code",
   "execution_count": 72,
   "id": "lpn4lJxX4UgP",
   "metadata": {
    "id": "lpn4lJxX4UgP"
   },
   "outputs": [],
   "source": [
    "# RandomOverSampler to handle imbalanced data\n",
    "from imblearn.under_sampling import RandomUnderSampler\n",
    "rus = RandomUnderSampler(sampling_strategy='majority') \n",
    "X_under,Y_under = rus.fit_resample(data_train_x_under,y3_train_under)"
   ]
  },
  {
   "cell_type": "code",
   "execution_count": 73,
   "id": "N1qUe_YR4UgP",
   "metadata": {
    "colab": {
     "base_uri": "https://localhost:8080/"
    },
    "id": "N1qUe_YR4UgP",
    "outputId": "3aa8d089-926f-419d-882d-f7b6d2cbfcc0"
   },
   "outputs": [
    {
     "name": "stdout",
     "output_type": "stream",
     "text": [
      "Resampled dataset shape Counter({0: 396, 1: 396})\n"
     ]
    }
   ],
   "source": [
    "print('Resampled dataset shape %s' % Counter(Y_under))"
   ]
  },
  {
   "cell_type": "markdown",
   "id": "b5ecd979",
   "metadata": {
    "id": "b5ecd979"
   },
   "source": [
    "## Naive Bayes Undersampling"
   ]
  },
  {
   "cell_type": "code",
   "execution_count": 74,
   "id": "71ccd196",
   "metadata": {
    "colab": {
     "base_uri": "https://localhost:8080/"
    },
    "id": "71ccd196",
    "outputId": "0baaf16c-fb07-4283-9497-738b77e50da3"
   },
   "outputs": [
    {
     "data": {
      "text/html": [
       "<style>#sk-container-id-9 {color: black;background-color: white;}#sk-container-id-9 pre{padding: 0;}#sk-container-id-9 div.sk-toggleable {background-color: white;}#sk-container-id-9 label.sk-toggleable__label {cursor: pointer;display: block;width: 100%;margin-bottom: 0;padding: 0.3em;box-sizing: border-box;text-align: center;}#sk-container-id-9 label.sk-toggleable__label-arrow:before {content: \"▸\";float: left;margin-right: 0.25em;color: #696969;}#sk-container-id-9 label.sk-toggleable__label-arrow:hover:before {color: black;}#sk-container-id-9 div.sk-estimator:hover label.sk-toggleable__label-arrow:before {color: black;}#sk-container-id-9 div.sk-toggleable__content {max-height: 0;max-width: 0;overflow: hidden;text-align: left;background-color: #f0f8ff;}#sk-container-id-9 div.sk-toggleable__content pre {margin: 0.2em;color: black;border-radius: 0.25em;background-color: #f0f8ff;}#sk-container-id-9 input.sk-toggleable__control:checked~div.sk-toggleable__content {max-height: 200px;max-width: 100%;overflow: auto;}#sk-container-id-9 input.sk-toggleable__control:checked~label.sk-toggleable__label-arrow:before {content: \"▾\";}#sk-container-id-9 div.sk-estimator input.sk-toggleable__control:checked~label.sk-toggleable__label {background-color: #d4ebff;}#sk-container-id-9 div.sk-label input.sk-toggleable__control:checked~label.sk-toggleable__label {background-color: #d4ebff;}#sk-container-id-9 input.sk-hidden--visually {border: 0;clip: rect(1px 1px 1px 1px);clip: rect(1px, 1px, 1px, 1px);height: 1px;margin: -1px;overflow: hidden;padding: 0;position: absolute;width: 1px;}#sk-container-id-9 div.sk-estimator {font-family: monospace;background-color: #f0f8ff;border: 1px dotted black;border-radius: 0.25em;box-sizing: border-box;margin-bottom: 0.5em;}#sk-container-id-9 div.sk-estimator:hover {background-color: #d4ebff;}#sk-container-id-9 div.sk-parallel-item::after {content: \"\";width: 100%;border-bottom: 1px solid gray;flex-grow: 1;}#sk-container-id-9 div.sk-label:hover label.sk-toggleable__label {background-color: #d4ebff;}#sk-container-id-9 div.sk-serial::before {content: \"\";position: absolute;border-left: 1px solid gray;box-sizing: border-box;top: 0;bottom: 0;left: 50%;z-index: 0;}#sk-container-id-9 div.sk-serial {display: flex;flex-direction: column;align-items: center;background-color: white;padding-right: 0.2em;padding-left: 0.2em;position: relative;}#sk-container-id-9 div.sk-item {position: relative;z-index: 1;}#sk-container-id-9 div.sk-parallel {display: flex;align-items: stretch;justify-content: center;background-color: white;position: relative;}#sk-container-id-9 div.sk-item::before, #sk-container-id-9 div.sk-parallel-item::before {content: \"\";position: absolute;border-left: 1px solid gray;box-sizing: border-box;top: 0;bottom: 0;left: 50%;z-index: -1;}#sk-container-id-9 div.sk-parallel-item {display: flex;flex-direction: column;z-index: 1;position: relative;background-color: white;}#sk-container-id-9 div.sk-parallel-item:first-child::after {align-self: flex-end;width: 50%;}#sk-container-id-9 div.sk-parallel-item:last-child::after {align-self: flex-start;width: 50%;}#sk-container-id-9 div.sk-parallel-item:only-child::after {width: 0;}#sk-container-id-9 div.sk-dashed-wrapped {border: 1px dashed gray;margin: 0 0.4em 0.5em 0.4em;box-sizing: border-box;padding-bottom: 0.4em;background-color: white;}#sk-container-id-9 div.sk-label label {font-family: monospace;font-weight: bold;display: inline-block;line-height: 1.2em;}#sk-container-id-9 div.sk-label-container {text-align: center;}#sk-container-id-9 div.sk-container {/* jupyter's `normalize.less` sets `[hidden] { display: none; }` but bootstrap.min.css set `[hidden] { display: none !important; }` so we also need the `!important` here to be able to override the default hidden behavior on the sphinx rendered scikit-learn.org. See: https://github.com/scikit-learn/scikit-learn/issues/21755 */display: inline-block !important;position: relative;}#sk-container-id-9 div.sk-text-repr-fallback {display: none;}</style><div id=\"sk-container-id-9\" class=\"sk-top-container\"><div class=\"sk-text-repr-fallback\"><pre>MultinomialNB()</pre><b>In a Jupyter environment, please rerun this cell to show the HTML representation or trust the notebook. <br />On GitHub, the HTML representation is unable to render, please try loading this page with nbviewer.org.</b></div><div class=\"sk-container\" hidden><div class=\"sk-item\"><div class=\"sk-estimator sk-toggleable\"><input class=\"sk-toggleable__control sk-hidden--visually\" id=\"sk-estimator-id-17\" type=\"checkbox\" checked><label for=\"sk-estimator-id-17\" class=\"sk-toggleable__label sk-toggleable__label-arrow\">MultinomialNB</label><div class=\"sk-toggleable__content\"><pre>MultinomialNB()</pre></div></div></div></div></div>"
      ],
      "text/plain": [
       "MultinomialNB()"
      ]
     },
     "execution_count": 74,
     "metadata": {},
     "output_type": "execute_result"
    }
   ],
   "source": [
    "clf1.fit(X_under.toarray(), Y_under)"
   ]
  },
  {
   "cell_type": "code",
   "execution_count": 75,
   "id": "52f2d695",
   "metadata": {
    "colab": {
     "base_uri": "https://localhost:8080/"
    },
    "id": "52f2d695",
    "outputId": "501bd53c-e5d1-45cd-8c4b-0319196de49a"
   },
   "outputs": [
    {
     "data": {
      "text/plain": [
       "0.7617283950617284"
      ]
     },
     "execution_count": 75,
     "metadata": {},
     "output_type": "execute_result"
    }
   ],
   "source": [
    "clf1.score(data_test_x_under.toarray(),y3_test_under)"
   ]
  },
  {
   "cell_type": "code",
   "execution_count": 76,
   "id": "ac06d41e",
   "metadata": {
    "colab": {
     "base_uri": "https://localhost:8080/"
    },
    "id": "ac06d41e",
    "outputId": "ad98f828-f68a-4431-9948-86003748a754"
   },
   "outputs": [
    {
     "name": "stdout",
     "output_type": "stream",
     "text": [
      "76.17%\n"
     ]
    }
   ],
   "source": [
    "pred_nb1_under = clf1.predict(data_test_x_under.toarray())\n",
    "acc_nb1_under = metrics.accuracy_score(pred_nb1_under, y3_test_under)\n",
    "print(str('{:04.2f}'.format(acc_nb1_under*100))+'%')"
   ]
  },
  {
   "cell_type": "code",
   "execution_count": 77,
   "id": "cd3829b2",
   "metadata": {
    "colab": {
     "base_uri": "https://localhost:8080/"
    },
    "id": "cd3829b2",
    "outputId": "efc1a864-e0b4-4faa-d1f6-76cac8cb504a"
   },
   "outputs": [
    {
     "name": "stdout",
     "output_type": "stream",
     "text": [
      "              precision    recall  f1-score   support\n",
      "\n",
      "    negative       0.32      0.76      0.45       102\n",
      "    positive       0.96      0.76      0.85       708\n",
      "\n",
      "    accuracy                           0.76       810\n",
      "   macro avg       0.64      0.76      0.65       810\n",
      "weighted avg       0.88      0.76      0.80       810\n",
      "\n"
     ]
    }
   ],
   "source": [
    "## Matrics evaluation for classification Naive Bayes Scen 1\n",
    "print(classification_report(y3_test_under, pred_nb1_under, target_names=['negative','positive']))"
   ]
  },
  {
   "cell_type": "markdown",
   "id": "0932c701",
   "metadata": {
    "id": "0932c701"
   },
   "source": [
    "## Support Vector Machine Undersampling"
   ]
  },
  {
   "cell_type": "code",
   "execution_count": 78,
   "id": "c4ab11d2",
   "metadata": {
    "colab": {
     "base_uri": "https://localhost:8080/"
    },
    "id": "c4ab11d2",
    "outputId": "1e3609e6-9d19-4651-86d0-ce42595be99d"
   },
   "outputs": [
    {
     "data": {
      "text/html": [
       "<style>#sk-container-id-10 {color: black;background-color: white;}#sk-container-id-10 pre{padding: 0;}#sk-container-id-10 div.sk-toggleable {background-color: white;}#sk-container-id-10 label.sk-toggleable__label {cursor: pointer;display: block;width: 100%;margin-bottom: 0;padding: 0.3em;box-sizing: border-box;text-align: center;}#sk-container-id-10 label.sk-toggleable__label-arrow:before {content: \"▸\";float: left;margin-right: 0.25em;color: #696969;}#sk-container-id-10 label.sk-toggleable__label-arrow:hover:before {color: black;}#sk-container-id-10 div.sk-estimator:hover label.sk-toggleable__label-arrow:before {color: black;}#sk-container-id-10 div.sk-toggleable__content {max-height: 0;max-width: 0;overflow: hidden;text-align: left;background-color: #f0f8ff;}#sk-container-id-10 div.sk-toggleable__content pre {margin: 0.2em;color: black;border-radius: 0.25em;background-color: #f0f8ff;}#sk-container-id-10 input.sk-toggleable__control:checked~div.sk-toggleable__content {max-height: 200px;max-width: 100%;overflow: auto;}#sk-container-id-10 input.sk-toggleable__control:checked~label.sk-toggleable__label-arrow:before {content: \"▾\";}#sk-container-id-10 div.sk-estimator input.sk-toggleable__control:checked~label.sk-toggleable__label {background-color: #d4ebff;}#sk-container-id-10 div.sk-label input.sk-toggleable__control:checked~label.sk-toggleable__label {background-color: #d4ebff;}#sk-container-id-10 input.sk-hidden--visually {border: 0;clip: rect(1px 1px 1px 1px);clip: rect(1px, 1px, 1px, 1px);height: 1px;margin: -1px;overflow: hidden;padding: 0;position: absolute;width: 1px;}#sk-container-id-10 div.sk-estimator {font-family: monospace;background-color: #f0f8ff;border: 1px dotted black;border-radius: 0.25em;box-sizing: border-box;margin-bottom: 0.5em;}#sk-container-id-10 div.sk-estimator:hover {background-color: #d4ebff;}#sk-container-id-10 div.sk-parallel-item::after {content: \"\";width: 100%;border-bottom: 1px solid gray;flex-grow: 1;}#sk-container-id-10 div.sk-label:hover label.sk-toggleable__label {background-color: #d4ebff;}#sk-container-id-10 div.sk-serial::before {content: \"\";position: absolute;border-left: 1px solid gray;box-sizing: border-box;top: 0;bottom: 0;left: 50%;z-index: 0;}#sk-container-id-10 div.sk-serial {display: flex;flex-direction: column;align-items: center;background-color: white;padding-right: 0.2em;padding-left: 0.2em;position: relative;}#sk-container-id-10 div.sk-item {position: relative;z-index: 1;}#sk-container-id-10 div.sk-parallel {display: flex;align-items: stretch;justify-content: center;background-color: white;position: relative;}#sk-container-id-10 div.sk-item::before, #sk-container-id-10 div.sk-parallel-item::before {content: \"\";position: absolute;border-left: 1px solid gray;box-sizing: border-box;top: 0;bottom: 0;left: 50%;z-index: -1;}#sk-container-id-10 div.sk-parallel-item {display: flex;flex-direction: column;z-index: 1;position: relative;background-color: white;}#sk-container-id-10 div.sk-parallel-item:first-child::after {align-self: flex-end;width: 50%;}#sk-container-id-10 div.sk-parallel-item:last-child::after {align-self: flex-start;width: 50%;}#sk-container-id-10 div.sk-parallel-item:only-child::after {width: 0;}#sk-container-id-10 div.sk-dashed-wrapped {border: 1px dashed gray;margin: 0 0.4em 0.5em 0.4em;box-sizing: border-box;padding-bottom: 0.4em;background-color: white;}#sk-container-id-10 div.sk-label label {font-family: monospace;font-weight: bold;display: inline-block;line-height: 1.2em;}#sk-container-id-10 div.sk-label-container {text-align: center;}#sk-container-id-10 div.sk-container {/* jupyter's `normalize.less` sets `[hidden] { display: none; }` but bootstrap.min.css set `[hidden] { display: none !important; }` so we also need the `!important` here to be able to override the default hidden behavior on the sphinx rendered scikit-learn.org. See: https://github.com/scikit-learn/scikit-learn/issues/21755 */display: inline-block !important;position: relative;}#sk-container-id-10 div.sk-text-repr-fallback {display: none;}</style><div id=\"sk-container-id-10\" class=\"sk-top-container\"><div class=\"sk-text-repr-fallback\"><pre>SVC(kernel=&#x27;linear&#x27;, random_state=2)</pre><b>In a Jupyter environment, please rerun this cell to show the HTML representation or trust the notebook. <br />On GitHub, the HTML representation is unable to render, please try loading this page with nbviewer.org.</b></div><div class=\"sk-container\" hidden><div class=\"sk-item\"><div class=\"sk-estimator sk-toggleable\"><input class=\"sk-toggleable__control sk-hidden--visually\" id=\"sk-estimator-id-18\" type=\"checkbox\" checked><label for=\"sk-estimator-id-18\" class=\"sk-toggleable__label sk-toggleable__label-arrow\">SVC</label><div class=\"sk-toggleable__content\"><pre>SVC(kernel=&#x27;linear&#x27;, random_state=2)</pre></div></div></div></div></div>"
      ],
      "text/plain": [
       "SVC(kernel='linear', random_state=2)"
      ]
     },
     "execution_count": 78,
     "metadata": {},
     "output_type": "execute_result"
    }
   ],
   "source": [
    "clf2.fit(X_under.toarray(), Y_under)"
   ]
  },
  {
   "cell_type": "code",
   "execution_count": 79,
   "id": "c9477a1e",
   "metadata": {
    "colab": {
     "base_uri": "https://localhost:8080/"
    },
    "id": "c9477a1e",
    "outputId": "a9eb0e72-8bec-4624-dd5d-1d8d31849675"
   },
   "outputs": [
    {
     "data": {
      "text/plain": [
       "0.7567901234567901"
      ]
     },
     "execution_count": 79,
     "metadata": {},
     "output_type": "execute_result"
    }
   ],
   "source": [
    "clf2.score(data_test_x_under.toarray(),y3_test_under)"
   ]
  },
  {
   "cell_type": "code",
   "execution_count": 80,
   "id": "cec9a746",
   "metadata": {
    "colab": {
     "base_uri": "https://localhost:8080/"
    },
    "id": "cec9a746",
    "outputId": "cf8b3ddf-b9f9-4e4a-f9b9-3cac22e81ae7"
   },
   "outputs": [
    {
     "name": "stdout",
     "output_type": "stream",
     "text": [
      "75.68%\n"
     ]
    }
   ],
   "source": [
    "pred_svm1_under = clf2.predict(data_test_x_under.toarray())\n",
    "acc_svm1_under = metrics.accuracy_score(pred_svm1_under, y3_test_under)\n",
    "print(str('{:04.2f}'.format(acc_svm1_under*100))+'%')"
   ]
  },
  {
   "cell_type": "code",
   "execution_count": 81,
   "id": "655c0769",
   "metadata": {
    "colab": {
     "base_uri": "https://localhost:8080/"
    },
    "id": "655c0769",
    "outputId": "7a63a4b5-a605-4aef-c5e6-29239ff0faa1"
   },
   "outputs": [
    {
     "name": "stdout",
     "output_type": "stream",
     "text": [
      "              precision    recall  f1-score   support\n",
      "\n",
      "    negative       0.32      0.82      0.46       102\n",
      "    positive       0.97      0.75      0.84       708\n",
      "\n",
      "    accuracy                           0.76       810\n",
      "   macro avg       0.64      0.79      0.65       810\n",
      "weighted avg       0.89      0.76      0.79       810\n",
      "\n"
     ]
    }
   ],
   "source": [
    "## Matrics evaluation for classification Support Vector Machines Scen 1\n",
    "print(classification_report(y3_test_under, pred_svm1_under, target_names=['negative','positive']))"
   ]
  },
  {
   "cell_type": "markdown",
   "id": "e7d11cd3",
   "metadata": {
    "id": "e7d11cd3"
   },
   "source": [
    "## Decision Tree Undersampling"
   ]
  },
  {
   "cell_type": "code",
   "execution_count": 82,
   "id": "079b9eac",
   "metadata": {
    "colab": {
     "base_uri": "https://localhost:8080/"
    },
    "id": "079b9eac",
    "outputId": "bdbdc4a4-43ae-449c-82be-1d13eb434b76"
   },
   "outputs": [
    {
     "data": {
      "text/html": [
       "<style>#sk-container-id-11 {color: black;background-color: white;}#sk-container-id-11 pre{padding: 0;}#sk-container-id-11 div.sk-toggleable {background-color: white;}#sk-container-id-11 label.sk-toggleable__label {cursor: pointer;display: block;width: 100%;margin-bottom: 0;padding: 0.3em;box-sizing: border-box;text-align: center;}#sk-container-id-11 label.sk-toggleable__label-arrow:before {content: \"▸\";float: left;margin-right: 0.25em;color: #696969;}#sk-container-id-11 label.sk-toggleable__label-arrow:hover:before {color: black;}#sk-container-id-11 div.sk-estimator:hover label.sk-toggleable__label-arrow:before {color: black;}#sk-container-id-11 div.sk-toggleable__content {max-height: 0;max-width: 0;overflow: hidden;text-align: left;background-color: #f0f8ff;}#sk-container-id-11 div.sk-toggleable__content pre {margin: 0.2em;color: black;border-radius: 0.25em;background-color: #f0f8ff;}#sk-container-id-11 input.sk-toggleable__control:checked~div.sk-toggleable__content {max-height: 200px;max-width: 100%;overflow: auto;}#sk-container-id-11 input.sk-toggleable__control:checked~label.sk-toggleable__label-arrow:before {content: \"▾\";}#sk-container-id-11 div.sk-estimator input.sk-toggleable__control:checked~label.sk-toggleable__label {background-color: #d4ebff;}#sk-container-id-11 div.sk-label input.sk-toggleable__control:checked~label.sk-toggleable__label {background-color: #d4ebff;}#sk-container-id-11 input.sk-hidden--visually {border: 0;clip: rect(1px 1px 1px 1px);clip: rect(1px, 1px, 1px, 1px);height: 1px;margin: -1px;overflow: hidden;padding: 0;position: absolute;width: 1px;}#sk-container-id-11 div.sk-estimator {font-family: monospace;background-color: #f0f8ff;border: 1px dotted black;border-radius: 0.25em;box-sizing: border-box;margin-bottom: 0.5em;}#sk-container-id-11 div.sk-estimator:hover {background-color: #d4ebff;}#sk-container-id-11 div.sk-parallel-item::after {content: \"\";width: 100%;border-bottom: 1px solid gray;flex-grow: 1;}#sk-container-id-11 div.sk-label:hover label.sk-toggleable__label {background-color: #d4ebff;}#sk-container-id-11 div.sk-serial::before {content: \"\";position: absolute;border-left: 1px solid gray;box-sizing: border-box;top: 0;bottom: 0;left: 50%;z-index: 0;}#sk-container-id-11 div.sk-serial {display: flex;flex-direction: column;align-items: center;background-color: white;padding-right: 0.2em;padding-left: 0.2em;position: relative;}#sk-container-id-11 div.sk-item {position: relative;z-index: 1;}#sk-container-id-11 div.sk-parallel {display: flex;align-items: stretch;justify-content: center;background-color: white;position: relative;}#sk-container-id-11 div.sk-item::before, #sk-container-id-11 div.sk-parallel-item::before {content: \"\";position: absolute;border-left: 1px solid gray;box-sizing: border-box;top: 0;bottom: 0;left: 50%;z-index: -1;}#sk-container-id-11 div.sk-parallel-item {display: flex;flex-direction: column;z-index: 1;position: relative;background-color: white;}#sk-container-id-11 div.sk-parallel-item:first-child::after {align-self: flex-end;width: 50%;}#sk-container-id-11 div.sk-parallel-item:last-child::after {align-self: flex-start;width: 50%;}#sk-container-id-11 div.sk-parallel-item:only-child::after {width: 0;}#sk-container-id-11 div.sk-dashed-wrapped {border: 1px dashed gray;margin: 0 0.4em 0.5em 0.4em;box-sizing: border-box;padding-bottom: 0.4em;background-color: white;}#sk-container-id-11 div.sk-label label {font-family: monospace;font-weight: bold;display: inline-block;line-height: 1.2em;}#sk-container-id-11 div.sk-label-container {text-align: center;}#sk-container-id-11 div.sk-container {/* jupyter's `normalize.less` sets `[hidden] { display: none; }` but bootstrap.min.css set `[hidden] { display: none !important; }` so we also need the `!important` here to be able to override the default hidden behavior on the sphinx rendered scikit-learn.org. See: https://github.com/scikit-learn/scikit-learn/issues/21755 */display: inline-block !important;position: relative;}#sk-container-id-11 div.sk-text-repr-fallback {display: none;}</style><div id=\"sk-container-id-11\" class=\"sk-top-container\"><div class=\"sk-text-repr-fallback\"><pre>DecisionTreeClassifier(random_state=2)</pre><b>In a Jupyter environment, please rerun this cell to show the HTML representation or trust the notebook. <br />On GitHub, the HTML representation is unable to render, please try loading this page with nbviewer.org.</b></div><div class=\"sk-container\" hidden><div class=\"sk-item\"><div class=\"sk-estimator sk-toggleable\"><input class=\"sk-toggleable__control sk-hidden--visually\" id=\"sk-estimator-id-19\" type=\"checkbox\" checked><label for=\"sk-estimator-id-19\" class=\"sk-toggleable__label sk-toggleable__label-arrow\">DecisionTreeClassifier</label><div class=\"sk-toggleable__content\"><pre>DecisionTreeClassifier(random_state=2)</pre></div></div></div></div></div>"
      ],
      "text/plain": [
       "DecisionTreeClassifier(random_state=2)"
      ]
     },
     "execution_count": 82,
     "metadata": {},
     "output_type": "execute_result"
    }
   ],
   "source": [
    "clf3.fit(X_under.toarray(), Y_under)"
   ]
  },
  {
   "cell_type": "code",
   "execution_count": 83,
   "id": "4b14cd19",
   "metadata": {
    "colab": {
     "base_uri": "https://localhost:8080/"
    },
    "id": "4b14cd19",
    "outputId": "1dd9ee4a-66e5-4f88-a912-6f6e7ba8920f"
   },
   "outputs": [
    {
     "data": {
      "text/plain": [
       "0.674074074074074"
      ]
     },
     "execution_count": 83,
     "metadata": {},
     "output_type": "execute_result"
    }
   ],
   "source": [
    "clf3.score(data_test_x_under.toarray(),y3_test_under)"
   ]
  },
  {
   "cell_type": "code",
   "execution_count": 84,
   "id": "fe0fc3a9",
   "metadata": {
    "colab": {
     "base_uri": "https://localhost:8080/"
    },
    "id": "fe0fc3a9",
    "outputId": "7d4cb5c6-295a-4ee3-ea4f-2fa25d6e95f4"
   },
   "outputs": [
    {
     "name": "stdout",
     "output_type": "stream",
     "text": [
      "67.41%\n"
     ]
    }
   ],
   "source": [
    "pred_dt1_under = clf3.predict(data_test_x_under.toarray())\n",
    "acc_dt1_under = metrics.accuracy_score(pred_dt1_under, y3_test_under)\n",
    "print(str('{:04.2f}'.format(acc_dt1_under*100))+'%')"
   ]
  },
  {
   "cell_type": "code",
   "execution_count": 85,
   "id": "bb8cdee8",
   "metadata": {
    "colab": {
     "base_uri": "https://localhost:8080/"
    },
    "id": "bb8cdee8",
    "outputId": "3e4d4182-5509-4d9a-eedf-294717b6e4d9",
    "scrolled": true
   },
   "outputs": [
    {
     "name": "stdout",
     "output_type": "stream",
     "text": [
      "              precision    recall  f1-score   support\n",
      "\n",
      "    negative       0.23      0.68      0.34       102\n",
      "    positive       0.94      0.67      0.78       708\n",
      "\n",
      "    accuracy                           0.67       810\n",
      "   macro avg       0.58      0.68      0.56       810\n",
      "weighted avg       0.85      0.67      0.73       810\n",
      "\n"
     ]
    }
   ],
   "source": [
    "## Matrics evaluation for classification decision tree Scen 1\n",
    "print(classification_report(y3_test_under, pred_dt1_under, target_names=['negative','positive']))"
   ]
  },
  {
   "cell_type": "markdown",
   "id": "005e9442",
   "metadata": {
    "id": "005e9442"
   },
   "source": [
    "## Stacking Undersampling"
   ]
  },
  {
   "cell_type": "code",
   "execution_count": 86,
   "id": "63c5d4e9",
   "metadata": {
    "colab": {
     "base_uri": "https://localhost:8080/"
    },
    "id": "63c5d4e9",
    "outputId": "95e5005e-e43e-465e-d098-4f9924bdc6ef",
    "scrolled": true
   },
   "outputs": [
    {
     "data": {
      "text/html": [
       "<style>#sk-container-id-12 {color: black;background-color: white;}#sk-container-id-12 pre{padding: 0;}#sk-container-id-12 div.sk-toggleable {background-color: white;}#sk-container-id-12 label.sk-toggleable__label {cursor: pointer;display: block;width: 100%;margin-bottom: 0;padding: 0.3em;box-sizing: border-box;text-align: center;}#sk-container-id-12 label.sk-toggleable__label-arrow:before {content: \"▸\";float: left;margin-right: 0.25em;color: #696969;}#sk-container-id-12 label.sk-toggleable__label-arrow:hover:before {color: black;}#sk-container-id-12 div.sk-estimator:hover label.sk-toggleable__label-arrow:before {color: black;}#sk-container-id-12 div.sk-toggleable__content {max-height: 0;max-width: 0;overflow: hidden;text-align: left;background-color: #f0f8ff;}#sk-container-id-12 div.sk-toggleable__content pre {margin: 0.2em;color: black;border-radius: 0.25em;background-color: #f0f8ff;}#sk-container-id-12 input.sk-toggleable__control:checked~div.sk-toggleable__content {max-height: 200px;max-width: 100%;overflow: auto;}#sk-container-id-12 input.sk-toggleable__control:checked~label.sk-toggleable__label-arrow:before {content: \"▾\";}#sk-container-id-12 div.sk-estimator input.sk-toggleable__control:checked~label.sk-toggleable__label {background-color: #d4ebff;}#sk-container-id-12 div.sk-label input.sk-toggleable__control:checked~label.sk-toggleable__label {background-color: #d4ebff;}#sk-container-id-12 input.sk-hidden--visually {border: 0;clip: rect(1px 1px 1px 1px);clip: rect(1px, 1px, 1px, 1px);height: 1px;margin: -1px;overflow: hidden;padding: 0;position: absolute;width: 1px;}#sk-container-id-12 div.sk-estimator {font-family: monospace;background-color: #f0f8ff;border: 1px dotted black;border-radius: 0.25em;box-sizing: border-box;margin-bottom: 0.5em;}#sk-container-id-12 div.sk-estimator:hover {background-color: #d4ebff;}#sk-container-id-12 div.sk-parallel-item::after {content: \"\";width: 100%;border-bottom: 1px solid gray;flex-grow: 1;}#sk-container-id-12 div.sk-label:hover label.sk-toggleable__label {background-color: #d4ebff;}#sk-container-id-12 div.sk-serial::before {content: \"\";position: absolute;border-left: 1px solid gray;box-sizing: border-box;top: 0;bottom: 0;left: 50%;z-index: 0;}#sk-container-id-12 div.sk-serial {display: flex;flex-direction: column;align-items: center;background-color: white;padding-right: 0.2em;padding-left: 0.2em;position: relative;}#sk-container-id-12 div.sk-item {position: relative;z-index: 1;}#sk-container-id-12 div.sk-parallel {display: flex;align-items: stretch;justify-content: center;background-color: white;position: relative;}#sk-container-id-12 div.sk-item::before, #sk-container-id-12 div.sk-parallel-item::before {content: \"\";position: absolute;border-left: 1px solid gray;box-sizing: border-box;top: 0;bottom: 0;left: 50%;z-index: -1;}#sk-container-id-12 div.sk-parallel-item {display: flex;flex-direction: column;z-index: 1;position: relative;background-color: white;}#sk-container-id-12 div.sk-parallel-item:first-child::after {align-self: flex-end;width: 50%;}#sk-container-id-12 div.sk-parallel-item:last-child::after {align-self: flex-start;width: 50%;}#sk-container-id-12 div.sk-parallel-item:only-child::after {width: 0;}#sk-container-id-12 div.sk-dashed-wrapped {border: 1px dashed gray;margin: 0 0.4em 0.5em 0.4em;box-sizing: border-box;padding-bottom: 0.4em;background-color: white;}#sk-container-id-12 div.sk-label label {font-family: monospace;font-weight: bold;display: inline-block;line-height: 1.2em;}#sk-container-id-12 div.sk-label-container {text-align: center;}#sk-container-id-12 div.sk-container {/* jupyter's `normalize.less` sets `[hidden] { display: none; }` but bootstrap.min.css set `[hidden] { display: none !important; }` so we also need the `!important` here to be able to override the default hidden behavior on the sphinx rendered scikit-learn.org. See: https://github.com/scikit-learn/scikit-learn/issues/21755 */display: inline-block !important;position: relative;}#sk-container-id-12 div.sk-text-repr-fallback {display: none;}</style><div id=\"sk-container-id-12\" class=\"sk-top-container\"><div class=\"sk-text-repr-fallback\"><pre>StackingClassifier(estimators=[(&#x27;bayes&#x27;, MultinomialNB()),\n",
       "                               (&#x27;svm&#x27;, SVC(kernel=&#x27;linear&#x27;, random_state=2)),\n",
       "                               (&#x27;dt&#x27;, DecisionTreeClassifier(random_state=2))],\n",
       "                   final_estimator=LogisticRegression())</pre><b>In a Jupyter environment, please rerun this cell to show the HTML representation or trust the notebook. <br />On GitHub, the HTML representation is unable to render, please try loading this page with nbviewer.org.</b></div><div class=\"sk-container\" hidden><div class=\"sk-item sk-dashed-wrapped\"><div class=\"sk-label-container\"><div class=\"sk-label sk-toggleable\"><input class=\"sk-toggleable__control sk-hidden--visually\" id=\"sk-estimator-id-20\" type=\"checkbox\" ><label for=\"sk-estimator-id-20\" class=\"sk-toggleable__label sk-toggleable__label-arrow\">StackingClassifier</label><div class=\"sk-toggleable__content\"><pre>StackingClassifier(estimators=[(&#x27;bayes&#x27;, MultinomialNB()),\n",
       "                               (&#x27;svm&#x27;, SVC(kernel=&#x27;linear&#x27;, random_state=2)),\n",
       "                               (&#x27;dt&#x27;, DecisionTreeClassifier(random_state=2))],\n",
       "                   final_estimator=LogisticRegression())</pre></div></div></div><div class=\"sk-serial\"><div class=\"sk-item\"><div class=\"sk-parallel\"><div class=\"sk-parallel-item\"><div class=\"sk-item\"><div class=\"sk-label-container\"><div class=\"sk-label sk-toggleable\"><label>bayes</label></div></div><div class=\"sk-serial\"><div class=\"sk-item\"><div class=\"sk-estimator sk-toggleable\"><input class=\"sk-toggleable__control sk-hidden--visually\" id=\"sk-estimator-id-21\" type=\"checkbox\" ><label for=\"sk-estimator-id-21\" class=\"sk-toggleable__label sk-toggleable__label-arrow\">MultinomialNB</label><div class=\"sk-toggleable__content\"><pre>MultinomialNB()</pre></div></div></div></div></div></div><div class=\"sk-parallel-item\"><div class=\"sk-item\"><div class=\"sk-label-container\"><div class=\"sk-label sk-toggleable\"><label>svm</label></div></div><div class=\"sk-serial\"><div class=\"sk-item\"><div class=\"sk-estimator sk-toggleable\"><input class=\"sk-toggleable__control sk-hidden--visually\" id=\"sk-estimator-id-22\" type=\"checkbox\" ><label for=\"sk-estimator-id-22\" class=\"sk-toggleable__label sk-toggleable__label-arrow\">SVC</label><div class=\"sk-toggleable__content\"><pre>SVC(kernel=&#x27;linear&#x27;, random_state=2)</pre></div></div></div></div></div></div><div class=\"sk-parallel-item\"><div class=\"sk-item\"><div class=\"sk-label-container\"><div class=\"sk-label sk-toggleable\"><label>dt</label></div></div><div class=\"sk-serial\"><div class=\"sk-item\"><div class=\"sk-estimator sk-toggleable\"><input class=\"sk-toggleable__control sk-hidden--visually\" id=\"sk-estimator-id-23\" type=\"checkbox\" ><label for=\"sk-estimator-id-23\" class=\"sk-toggleable__label sk-toggleable__label-arrow\">DecisionTreeClassifier</label><div class=\"sk-toggleable__content\"><pre>DecisionTreeClassifier(random_state=2)</pre></div></div></div></div></div></div></div></div><div class=\"sk-item\"><div class=\"sk-parallel\"><div class=\"sk-parallel-item\"><div class=\"sk-item\"><div class=\"sk-label-container\"><div class=\"sk-label sk-toggleable\"><label>final_estimator</label></div></div><div class=\"sk-serial\"><div class=\"sk-item\"><div class=\"sk-estimator sk-toggleable\"><input class=\"sk-toggleable__control sk-hidden--visually\" id=\"sk-estimator-id-24\" type=\"checkbox\" ><label for=\"sk-estimator-id-24\" class=\"sk-toggleable__label sk-toggleable__label-arrow\">LogisticRegression</label><div class=\"sk-toggleable__content\"><pre>LogisticRegression()</pre></div></div></div></div></div></div></div></div></div></div></div></div>"
      ],
      "text/plain": [
       "StackingClassifier(estimators=[('bayes', MultinomialNB()),\n",
       "                               ('svm', SVC(kernel='linear', random_state=2)),\n",
       "                               ('dt', DecisionTreeClassifier(random_state=2))],\n",
       "                   final_estimator=LogisticRegression())"
      ]
     },
     "execution_count": 86,
     "metadata": {},
     "output_type": "execute_result"
    }
   ],
   "source": [
    "clf4.fit(X_under.toarray(), Y_under)"
   ]
  },
  {
   "cell_type": "code",
   "execution_count": 87,
   "id": "02fe8adf",
   "metadata": {
    "colab": {
     "base_uri": "https://localhost:8080/"
    },
    "id": "02fe8adf",
    "outputId": "721ca6bc-6f26-40c8-e457-abb8caee8da8"
   },
   "outputs": [
    {
     "data": {
      "text/plain": [
       "0.7802469135802469"
      ]
     },
     "execution_count": 87,
     "metadata": {},
     "output_type": "execute_result"
    }
   ],
   "source": [
    "clf4.score(data_test_x_under.toarray(),y3_test_under)"
   ]
  },
  {
   "cell_type": "code",
   "execution_count": 88,
   "id": "3bb08a53",
   "metadata": {
    "colab": {
     "base_uri": "https://localhost:8080/"
    },
    "id": "3bb08a53",
    "outputId": "43ea0f41-da6f-4a13-cd02-a49a29e343fa"
   },
   "outputs": [
    {
     "name": "stdout",
     "output_type": "stream",
     "text": [
      "78.02%\n"
     ]
    }
   ],
   "source": [
    "pred_stacking1_under = clf4.predict(data_test_x_under.toarray())\n",
    "acc_stacking1_under = metrics.accuracy_score(pred_stacking1_under, y3_test_under)\n",
    "print(str('{:04.2f}'.format(acc_stacking1_under*100))+'%')"
   ]
  },
  {
   "cell_type": "code",
   "execution_count": 89,
   "id": "67ff5079",
   "metadata": {
    "colab": {
     "base_uri": "https://localhost:8080/"
    },
    "id": "67ff5079",
    "outputId": "c2beb967-7570-4a57-c3c5-4256ce9bf1b5",
    "tags": []
   },
   "outputs": [
    {
     "name": "stdout",
     "output_type": "stream",
     "text": [
      "              precision    recall  f1-score   support\n",
      "\n",
      "    negative       0.35      0.83      0.49       102\n",
      "    positive       0.97      0.77      0.86       708\n",
      "\n",
      "    accuracy                           0.78       810\n",
      "   macro avg       0.66      0.80      0.67       810\n",
      "weighted avg       0.89      0.78      0.81       810\n",
      "\n"
     ]
    }
   ],
   "source": [
    "## Matrics evaluation for classification stacking ensemble Scen 1\n",
    "print(classification_report(y3_test_under, pred_stacking1_under, target_names=['negative','positive']))"
   ]
  },
  {
   "cell_type": "code",
   "execution_count": 95,
   "id": "1DoUJB5QK8kt",
   "metadata": {
    "id": "1DoUJB5QK8kt"
   },
   "outputs": [],
   "source": [
    "X4_train_over,X4_test_over,y4_train_over,y4_test_over = train_test_split(X_oversampling,Y_oversampling,\n",
    "                                                 test_size=0.20,\n",
    "                                                 random_state = 42)"
   ]
  },
  {
   "cell_type": "code",
   "execution_count": 119,
   "id": "9FNp6JPsX9-9",
   "metadata": {
    "id": "9FNp6JPsX9-9"
   },
   "outputs": [],
   "source": [
    "X5_train_under,X5_test_under,y5_train_under,y5_test_under = train_test_split(X_undersampling,Y_undersampling,\n",
    "                                                 test_size=0.20,\n",
    "                                                 random_state = 42)"
   ]
  }
 ],
 "metadata": {
  "colab": {
   "collapsed_sections": [],
   "name": "Final Main Project Improve Implementation Splitting Data.ipynb",
   "provenance": [],
   "toc_visible": true
  },
  "kernelspec": {
   "display_name": "Python 3 (ipykernel)",
   "language": "python",
   "name": "python3"
  },
  "language_info": {
   "codemirror_mode": {
    "name": "ipython",
    "version": 3
   },
   "file_extension": ".py",
   "mimetype": "text/x-python",
   "name": "python",
   "nbconvert_exporter": "python",
   "pygments_lexer": "ipython3",
   "version": "3.9.7"
  },
  "toc-autonumbering": false,
  "toc-showcode": false
 },
 "nbformat": 4,
 "nbformat_minor": 5
}
